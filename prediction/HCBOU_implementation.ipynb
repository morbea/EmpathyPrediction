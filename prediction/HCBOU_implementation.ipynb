{
 "cells": [
  {
   "cell_type": "code",
   "execution_count": 1,
   "metadata": {
    "id": "adDHJnOS22JJ"
   },
   "outputs": [],
   "source": [
    "import matplotlib.pyplot as plt\n",
    "import argparse\n",
    "import os\n",
    "import sys\n",
    "# from datasets import load_dataset\n",
    "from transformers import AutoTokenizer, AutoModelForSequenceClassification, TrainingArguments, Trainer, AutoModel, AutoConfig\n",
    "import wandb\n",
    "import numpy as np\n",
    "import pandas as pd\n",
    "import random\n",
    "from collections import Counter\n",
    "\n",
    "import torch\n",
    "from transformers import AutoTokenizer, AutoModel\n",
    "from sklearn.cluster import KMeans\n",
    "from sklearn.metrics import pairwise_distances_argmin_min, silhouette_score\n",
    "from sklearn.model_selection import train_test_split\n",
    "from tqdm.auto import tqdm\n"
   ]
  },
  {
   "cell_type": "code",
   "execution_count": 2,
   "metadata": {
    "colab": {
     "base_uri": "https://localhost:8080/"
    },
    "id": "ACtJwPozuX0J",
    "outputId": "c0b48b47-7fde-4196-c24a-363c22c1c437"
   },
   "outputs": [
    {
     "name": "stdout",
     "output_type": "stream",
     "text": [
      "Mounted at /content/drive\n"
     ]
    }
   ],
   "source": [
    "\n",
    "from google.colab import drive\n",
    "drive.mount('/content/drive')\n",
    "df = pd.read_csv('/content/drive/MyDrive/עותק של Supplementary data - responses and measures (1).csv')\n"
   ]
  },
  {
   "cell_type": "markdown",
   "metadata": {
    "id": "yYST1DMKuX0N"
   },
   "source": [
    "## Clean the text data"
   ]
  },
  {
   "cell_type": "markdown",
   "metadata": {
    "id": "bOqLjpP4uX0N"
   },
   "source": [
    "Remove punctuation, numbers, and special characters.\n",
    "Convert text to lowercase.\n",
    "Tokenize the paragraphs into words."
   ]
  },
  {
   "cell_type": "code",
   "execution_count": 3,
   "metadata": {
    "colab": {
     "base_uri": "https://localhost:8080/"
    },
    "id": "fHgwPUaAu8_j",
    "outputId": "aad49cdd-bedc-4245-bb1d-4244401174a6"
   },
   "outputs": [
    {
     "name": "stderr",
     "output_type": "stream",
     "text": [
      "/tmp/ipython-input-1884332789.py:3: SettingWithCopyWarning: \n",
      "A value is trying to be set on a copy of a slice from a DataFrame.\n",
      "Try using .loc[row_indexer,col_indexer] = value instead\n",
      "\n",
      "See the caveats in the documentation: https://pandas.pydata.org/pandas-docs/stable/user_guide/indexing.html#returning-a-view-versus-a-copy\n",
      "  all['Condition'] = all['Condition'].apply(lambda x: 2 if x in {'Human', '2'} else 1)\n"
     ]
    }
   ],
   "source": [
    "\n",
    "all = (df[df['Condition'].isin({'Human', '2','1','AI'})])\n",
    "# set df['Condition'].isin({'Human', '2'} to 2 and df['Condition'].isin({'AI', '1'} to 1\n",
    "all['Condition'] = all['Condition'].apply(lambda x: 2 if x in {'Human', '2'} else 1)"
   ]
  },
  {
   "cell_type": "code",
   "execution_count": 4,
   "metadata": {
    "id": "U5KG8pnydjTA"
   },
   "outputs": [],
   "source": [
    "\n",
    "hrel = all[['Response', 'EmpathyQ_1','Condition']]\n",
    "\n",
    "hrel = hrel.rename(columns={\"Response\": \"response\", \"EmpathyQ_1\": \"label\",'Condition':'condition'})\n",
    "\n",
    "hrel = hrel.dropna(subset=[\"response\", \"label\"])  # Drop rows with NaN\n",
    "hrel = hrel[hrel[\"response\"].apply(lambda x: isinstance(x, str) and len(x.strip()) > 0)]  # Keep valid strings\n",
    "hrel[\"label\"] = hrel[\"label\"].astype(float)  # Ensure empathy is float\n"
   ]
  },
  {
   "cell_type": "markdown",
   "metadata": {
    "id": "SV2ZVeJnrO0d"
   },
   "source": [
    "# Over and Under Sampling"
   ]
  },
  {
   "cell_type": "code",
   "execution_count": 5,
   "metadata": {
    "colab": {
     "base_uri": "https://localhost:8080/",
     "height": 308,
     "referenced_widgets": [
      "ae2355915127465782e9e66657cbeda6",
      "2313fb2ba97d4e35b27f563edee66011",
      "c2ec711cecff4872afac965213709e82",
      "1cf4ca2eab5440c6ad27ee71bcd92286",
      "38c6221540ae4291b3ca0944c003af1b",
      "8d1883354c1d49f0a3d01c3164e654c4",
      "87b6cd04ad734bcab1f16a4ef609df1a",
      "91858dc3c5ce423d9a3bedf03538cc6e",
      "3884f8b978d64b618f8fa2221cf8d78c",
      "c8d3f7ec6fa84524bdde239260bc0acd",
      "81870391c61e4e99aa422b8c3ca414bc",
      "bb8a2cf3377d40699c6749f1c6d0eda6",
      "f2988892ec1940cab8a40158340753a2",
      "c585edfa14084cfd8540b1eb77bac4e2",
      "20ae50e368864477be578be317039328",
      "661fc4d34ab1433fb04ed21476aecc6b",
      "a93d85d4446043548056ac97eddd5b64",
      "aefa819199b142a2af9e490d95d23a30",
      "113b0de46c874158972507edcad90ff8",
      "f4d3e4ff14924d19807c3afbf181aca9",
      "59d47413c2d94c5c826141e9bfb4c7fa",
      "2bf9dd6c2d2b454d8a764769019838de",
      "64920bc1291447dba5ee89569da80f2c",
      "1d45d2e61af64c6db8be640f72da8ebd",
      "41d4dbf4d0ef43c99d6e10d163b4fb33",
      "fdc7bb94f2024e868eeb19560d339bd6",
      "1aac836358f34522bea95073fc358c6c",
      "eef666558fe346b68da47a3a349e04d8",
      "a70556b65feb4ca2bc0f149b36058ac6",
      "0fae0dbd08e64dc98b2b9f5fc6fb385a",
      "0bb709bca9364257a58db77b93b56a26",
      "648d23e330bc40daaf382394236850c8",
      "24fb8c12ee8c4b5c92a8971eb118a430",
      "a20a941ad61b4d81bc43d304238d0bbd",
      "f410a5d9eb4b4e40a041d4d3c976f014",
      "7503182359984f699a5ad9d300dd8fd0",
      "eb1fa2def1e542669abb1e204a9a2117",
      "3e734729f6b746b2abdbafd869012b5f",
      "7edea8d5f93e40bf87e5b7f9b210716e",
      "3932f39c8b474d19a03306bceaa3eaf4",
      "4eda2016e5944bc188622b32012dc1e0",
      "c4a6d5ed121f417bb129e7cf7a1e0287",
      "51c2b2f27ab94c5e94dfa9bd283f90ee",
      "5b31889787e84a8cbbfdb790933c9a93",
      "2cb862bdaafa420ba182c1d7cf8ee03a",
      "8762a2a910dc4728820e82253d9f4035",
      "a8b885972b2f43ae9e6e8d7b5d631963",
      "1d2973730b194862b9561cfdd3c146b2",
      "589431582fb542fa8055e24b76a82c64",
      "7896f03e44ee4d748175b8ed454de669",
      "7edecde577a241568b936802b763a2b5",
      "0e66e26880994145b413be01dc7ea5d5",
      "116acbd916ac444bbfeffe7d12b6189f",
      "28a83c43fd52467aa63774947b22a263",
      "6a68572f5da640f1b690481904a8e20f"
     ]
    },
    "id": "gIAJIapIkIqE",
    "outputId": "00435181-4c16-489e-a04f-cf351213d4f4"
   },
   "outputs": [
    {
     "name": "stderr",
     "output_type": "stream",
     "text": [
      "/usr/local/lib/python3.12/dist-packages/huggingface_hub/utils/_auth.py:94: UserWarning: \n",
      "The secret `HF_TOKEN` does not exist in your Colab secrets.\n",
      "To authenticate with the Hugging Face Hub, create a token in your settings tab (https://huggingface.co/settings/tokens), set it as secret in your Google Colab and restart your session.\n",
      "You will be able to reuse this secret in all of your notebooks.\n",
      "Please note that authentication is recommended but still optional to access public models or datasets.\n",
      "  warnings.warn(\n"
     ]
    },
    {
     "data": {
      "application/vnd.jupyter.widget-view+json": {
       "model_id": "ae2355915127465782e9e66657cbeda6",
       "version_major": 2,
       "version_minor": 0
      },
      "text/plain": [
       "config.json:   0%|          | 0.00/570 [00:00<?, ?B/s]"
      ]
     },
     "metadata": {},
     "output_type": "display_data"
    },
    {
     "data": {
      "application/vnd.jupyter.widget-view+json": {
       "model_id": "bb8a2cf3377d40699c6749f1c6d0eda6",
       "version_major": 2,
       "version_minor": 0
      },
      "text/plain": [
       "model.safetensors:   0%|          | 0.00/440M [00:00<?, ?B/s]"
      ]
     },
     "metadata": {},
     "output_type": "display_data"
    },
    {
     "data": {
      "application/vnd.jupyter.widget-view+json": {
       "model_id": "64920bc1291447dba5ee89569da80f2c",
       "version_major": 2,
       "version_minor": 0
      },
      "text/plain": [
       "tokenizer_config.json:   0%|          | 0.00/48.0 [00:00<?, ?B/s]"
      ]
     },
     "metadata": {},
     "output_type": "display_data"
    },
    {
     "data": {
      "application/vnd.jupyter.widget-view+json": {
       "model_id": "a20a941ad61b4d81bc43d304238d0bbd",
       "version_major": 2,
       "version_minor": 0
      },
      "text/plain": [
       "vocab.txt:   0%|          | 0.00/232k [00:00<?, ?B/s]"
      ]
     },
     "metadata": {},
     "output_type": "display_data"
    },
    {
     "data": {
      "application/vnd.jupyter.widget-view+json": {
       "model_id": "2cb862bdaafa420ba182c1d7cf8ee03a",
       "version_major": 2,
       "version_minor": 0
      },
      "text/plain": [
       "tokenizer.json:   0%|          | 0.00/466k [00:00<?, ?B/s]"
      ]
     },
     "metadata": {},
     "output_type": "display_data"
    }
   ],
   "source": [
    "\n",
    "device = torch.device(\"cuda\" if torch.cuda.is_available() else \"cpu\")\n",
    "config = AutoConfig.from_pretrained(\"bert-base-uncased\")\n",
    "model = AutoModel.from_pretrained(\"bert-base-uncased\").to(device)\n",
    "tokenizer = AutoTokenizer.from_pretrained(\"bert-base-uncased\")\n"
   ]
  },
  {
   "cell_type": "code",
   "execution_count": null,
   "metadata": {
    "colab": {
     "base_uri": "https://localhost:8080/",
     "height": 309,
     "referenced_widgets": [
      "791ce05169404174b339b5d01f1f4bd7",
      "9b2e549b59004f498af665110dd784e6",
      "cc661d11e0e44b799fa8ce0437357cff",
      "88dcd5951f584c0ab800cee9f1f804bf",
      "8decfb2f32d547b88e9682cec3749000",
      "fc2622b7ccc947d8a1978751f9bc5744",
      "85bc6bbbf9d84e70b85e638a4af0a58a",
      "bfa53e510c084a71be1b18a3470e9fce",
      "6251179835ad4455b8c4bacc36c4f816",
      "31338eabdc9a439f8588e0b709e8646a",
      "b8e6f70ab4534133b705497c2abb6a81"
     ]
    },
    "id": "cwREyRZo4lxS",
    "outputId": "98a4aeca-b358-42a9-ed2c-4bcaccb1d0f9"
   },
   "outputs": [
    {
     "data": {
      "application/vnd.jupyter.widget-view+json": {
       "model_id": "791ce05169404174b339b5d01f1f4bd7",
       "version_major": 2,
       "version_minor": 0
      },
      "text/plain": [
       "Extracting embeddings:   0%|          | 0/32 [00:00<?, ?it/s]"
      ]
     },
     "metadata": {},
     "output_type": "display_data"
    },
    {
     "name": "stdout",
     "output_type": "stream",
     "text": [
      "Original size: 2494\n",
      "Balanced size: 2000\n",
      "label\n",
      "0.0    200\n",
      "1.0    200\n",
      "2.0    200\n",
      "3.0    200\n",
      "4.0    200\n",
      "5.0    200\n",
      "6.0    200\n",
      "7.0    200\n",
      "8.0    200\n",
      "9.0    200\n",
      "Name: count, dtype: int64\n"
     ]
    }
   ],
   "source": [
    "\n",
    "SEED = 42\n",
    "np.random.seed(SEED)\n",
    "random.seed(SEED)\n",
    "torch.manual_seed(SEED)\n",
    "\n",
    "MODEL_NAME = \"bert-base-uncased\"\n",
    "device = torch.device(\"cuda\" if torch.cuda.is_available() else \"cpu\")\n",
    "POOL_BATCH = 64\n",
    "MIN_CLUSTER_SIZE = 2       # m in paper (merge clusters smaller than this)\n",
    "MAX_K_SEARCH = 10          # max k to try for silhouette\n",
    "GENERATION_METHOD = \"smote\"\n",
    "SMOTE_K_NEIGHBORS = 3\n",
    "\n",
    "\n",
    "\n",
    "\n",
    "\n",
    "def extract_embeddings(text_list, batch_size=POOL_BATCH):\n",
    "    embs = []\n",
    "    for i in tqdm(range(0, len(text_list), batch_size), desc=\"Extracting embeddings\"):\n",
    "        batch = text_list[i:i+batch_size]\n",
    "        enc = tokenizer(batch, padding=True, truncation=True, max_length=256, return_tensors=\"pt\").to(device)\n",
    "        with torch.no_grad():\n",
    "            out = model(**enc, return_dict=True)\n",
    "            # CLS pooling - summary of the entire sequence\n",
    "            vec = out.last_hidden_state[:, 0, :].cpu().numpy()\n",
    "        embs.append(vec)\n",
    "    return np.vstack(embs)\n",
    "\n",
    "def choose_k_by_silhouette(X, max_k=10):\n",
    "    \"\"\"\n",
    "    Choose number of clusters O using silhouette score.\n",
    "    Search k in [2, min(max_k, len(X))]. If len(X) < 2 -> return 1.\n",
    "    \"\"\"\n",
    "    n = len(X)\n",
    "    if n < 2:\n",
    "        return 1\n",
    "    upper = min(max_k, n)\n",
    "    best_k = 2\n",
    "    best_score = -1.0\n",
    "    for k in range(2, upper + 1):\n",
    "        # try-except because silhouette can fail if a label has 1 sample etc.\n",
    "        try:\n",
    "            km = KMeans(n_clusters=k, random_state=SEED, n_init=10).fit(X)\n",
    "            labels = km.labels_\n",
    "            score = silhouette_score(X, labels, metric=\"euclidean\")\n",
    "        except Exception:\n",
    "            score = -1.0\n",
    "        if score > best_score:\n",
    "            best_score = score\n",
    "            best_k = k\n",
    "    return best_k\n",
    "\n",
    "def merge_small_clusters_iterative(X, labels, min_size=2):\n",
    "    \"\"\"\n",
    "    Iteratively merge clusters whose size < min_size into nearest larger cluster.\n",
    "    Returns updated labels (same length as input labels).\n",
    "    \"\"\"\n",
    "    labels_updated = labels.copy()\n",
    "    unique = np.unique(labels_updated)\n",
    "    while True:\n",
    "        counts = {c: int(np.sum(labels_updated == c)) for c in unique}\n",
    "        small = [c for c, s in counts.items() if s < min_size]\n",
    "        if not small or len(unique) == 1:\n",
    "            break\n",
    "        large = [c for c in unique if c not in small]\n",
    "        if not large:\n",
    "            break\n",
    "        for sc in small:\n",
    "            sc_idx = np.where(labels_updated == sc)[0]\n",
    "            # centroid of small cluster\n",
    "            sc_centroid = X[sc_idx].mean(axis=0).reshape(1, -1)\n",
    "            # compute centroids for 'large' clusters\n",
    "            large_centroids = np.array([X[labels_updated == lc].mean(axis=0) for lc in large])\n",
    "            nearest = np.argmin(np.linalg.norm(large_centroids - sc_centroid, axis=1))\n",
    "            target = large[nearest]\n",
    "            labels_updated[sc_idx] = target\n",
    "        unique = np.unique(labels_updated)\n",
    "    # re-index cluster ids to compact range (optional)\n",
    "    # map old labels to new sequential labels\n",
    "    unique = np.unique(labels_updated)\n",
    "    mapping = {old: new for new, old in enumerate(unique)}\n",
    "    labels_mapped = np.array([mapping[l] for l in labels_updated])\n",
    "    return labels_mapped\n",
    "\n",
    "\n",
    "def hc_bou_balance(hrel_df,\n",
    "                   pool_batch=POOL_BATCH,\n",
    "                   min_cluster_size=MIN_CLUSTER_SIZE,\n",
    "                   max_k_search=MAX_K_SEARCH,\n",
    "                   generation_method=GENERATION_METHOD,\n",
    "                   smote_k_neighbors=SMOTE_K_NEIGHBORS):\n",
    "\n",
    "    texts = hrel_df['response'].astype(str).tolist()\n",
    "    embeddings = extract_embeddings(texts, batch_size=pool_batch)\n",
    "\n",
    "    unique_conditions = sorted(hrel_df['condition'].unique())\n",
    "    balanced_rows = []       # list of dicts (rows)\n",
    "    balanced_embs = []       # list of embeddings aligned with balanced_rows\n",
    "    cluster_log = {}\n",
    "    for cond in unique_conditions:\n",
    "        cond_mask = (hrel_df['condition'] == cond).values\n",
    "        cond_global_idx = np.where(cond_mask)[0]\n",
    "        cond_X = embeddings[cond_mask]\n",
    "        cond_y = hrel_df.loc[cond_mask, 'label'].values\n",
    "\n",
    "        N = len(cond_y)\n",
    "        classes = np.unique(cond_y)\n",
    "        C = len(classes)\n",
    "        if C == 0:\n",
    "            continue\n",
    "        S = int(round(N / C))  # target per-class size after balancing\n",
    "        cluster_log[cond] = {}\n",
    "\n",
    "        for cls in classes:\n",
    "            cls_mask_local = (cond_y == cls)\n",
    "            if not np.any(cls_mask_local):\n",
    "                continue\n",
    "            cls_X = cond_X[cls_mask_local]\n",
    "            cls_global_idx = cond_global_idx[cls_mask_local]  # global indices in hrel_df\n",
    "            cls_n = len(cls_X)\n",
    "\n",
    "            cluster_log[cond][int(cls)] = {}\n",
    "\n",
    "            if cls_n >= S:\n",
    "                # Majority: undersample with KMeans(n_clusters=S), pick nearest-to-centroid samples\n",
    "                n_clusters = S\n",
    "                km = KMeans(n_clusters=n_clusters, random_state=SEED, n_init=10).fit(cls_X)\n",
    "                centers = km.cluster_centers_\n",
    "                closest_local, _ = pairwise_distances_argmin_min(centers, cls_X)\n",
    "                chosen_global = cls_global_idx[closest_local]\n",
    "\n",
    "                # add chosen real rows\n",
    "                for g in chosen_global:\n",
    "                    row = hrel_df.iloc[g].to_dict()\n",
    "                    row[\"_orig_index\"] = int(g)\n",
    "                    row[\"_is_synthetic\"] = False\n",
    "                    balanced_rows.append(row)\n",
    "                    balanced_embs.append(embeddings[g])\n",
    "\n",
    "                cluster_log[cond][int(cls)][\"type\"] = \"majority_undersampled\"\n",
    "                cluster_log[cond][int(cls)][\"kept_count\"] = int(len(chosen_global))\n",
    "\n",
    "            else:\n",
    "                # Minority: choose O via silhouette, cluster into O, merge small clusters,\n",
    "                # compute W_m and hat_S_m as in paper, then generate hat_S_m samples per cluster.\n",
    "                if cls_n < 2:\n",
    "                    labels_after = np.zeros(cls_n, dtype=int)\n",
    "                    counts_after = {0: cls_n}\n",
    "                else:\n",
    "                    O = choose_k_by_silhouette(cls_X, max_k=min(max_k_search, cls_n))\n",
    "                    km = KMeans(n_clusters=O, random_state=SEED, n_init=10).fit(cls_X)\n",
    "                    labels = km.labels_\n",
    "                    labels_after = merge_small_clusters_iterative(cls_X, labels, min_size=min_cluster_size)\n",
    "                    unique_after = np.unique(labels_after)\n",
    "                    counts_after = {int(c): int(np.sum(labels_after == c)) for c in unique_after}\n",
    "\n",
    "                total_after = sum(counts_after.values())\n",
    "                Wm = {c: counts_after[c] / total_after for c in counts_after}\n",
    "\n",
    "                #hat_S_m = floor( W_m * (S - C_m) )\n",
    "                per_cluster_hat = {}\n",
    "                for c in counts_after:\n",
    "                    C_m = counts_after[c]\n",
    "                    rem = S - C_m\n",
    "                    hat_S_m = int(np.floor(Wm[c] * rem))\n",
    "                    per_cluster_hat[c] = hat_S_m\n",
    "\n",
    "                # adjust rounding so we reach desired extra\n",
    "                desired_extra = S - total_after\n",
    "                sum_generated = sum(per_cluster_hat.values())\n",
    "                diff = desired_extra - sum_generated\n",
    "                if diff > 0:\n",
    "                    order = sorted(per_cluster_hat.keys(), key=lambda c: -Wm[c])\n",
    "                    i = 0\n",
    "                    while diff > 0:\n",
    "                        per_cluster_hat[order[i % len(order)]] += 1\n",
    "                        diff -= 1\n",
    "                        i += 1\n",
    "                elif diff < 0:\n",
    "                    order = sorted(per_cluster_hat.keys(), key=lambda c: Wm[c])\n",
    "                    i = 0\n",
    "                    while diff < 0:\n",
    "                        c0 = order[i % len(order)]\n",
    "                        if per_cluster_hat[c0] > 0:\n",
    "                            per_cluster_hat[c0] -= 1\n",
    "                            diff += 1\n",
    "                        i += 1\n",
    "\n",
    "                # keep all original minority samples (real)\n",
    "                for g in cls_global_idx:\n",
    "                    row = hrel_df.iloc[g].to_dict()\n",
    "                    row[\"_orig_index\"] = int(g)\n",
    "                    row[\"_is_synthetic\"] = False\n",
    "                    balanced_rows.append(row)\n",
    "                    balanced_embs.append(embeddings[g])\n",
    "\n",
    "                # generate hat_S_m per cluster\n",
    "                for c, n_gen in per_cluster_hat.items():\n",
    "                    if n_gen <= 0:\n",
    "                        continue\n",
    "                    members_local = np.where(labels_after == c)[0]\n",
    "                    if len(members_local) == 0:\n",
    "                        continue\n",
    "                    members_global = cls_global_idx[members_local]\n",
    "\n",
    "                    if len(members_local) > 1:\n",
    "                        k_neighbors = min(smote_k_neighbors, max(1, len(members_local)-1))\n",
    "                        X_cluster = cls_X[members_local]\n",
    "                        # We want to create exactly n_gen synthetic samples.\n",
    "                        # SMOTE generates until a target count; create target = len(X_cluster) + n_gen\n",
    "                        target = len(X_cluster) + n_gen\n",
    "                        try:\n",
    "                            sm = SMOTE(sampling_strategy={0: target}, k_neighbors=k_neighbors, random_state=SEED)\n",
    "                            y_dummy = np.zeros(len(X_cluster))\n",
    "                            X_res, _ = sm.fit_resample(X_cluster, y_dummy)\n",
    "                            # generated embeddings are X_res[len(X_cluster):]\n",
    "                            new_embs = X_res[len(X_cluster):]\n",
    "                            if len(new_embs) < n_gen:\n",
    "                                # fallback: pad by duplicating members\n",
    "                                needed = n_gen - len(new_embs)\n",
    "                                chosen = np.random.choice(members_global, size=needed, replace=True)\n",
    "                                for g in chosen:\n",
    "                                    row = hrel_df.iloc[g].to_dict()\n",
    "                                    row[\"_orig_index\"] = int(g)\n",
    "                                    row[\"_is_synthetic\"] = False\n",
    "                                    balanced_rows.append(row)\n",
    "                                    balanced_embs.append(embeddings[g])\n",
    "                            # append created synthetic embeddings (create synthetic rows)\n",
    "                            for emb in new_embs:\n",
    "                                row = {\"response\": None, \"label\": float(cls), \"condition\": cond}\n",
    "                                row[\"_orig_index\"] = -1\n",
    "                                row[\"_is_synthetic\"] = True\n",
    "                                balanced_rows.append(row)\n",
    "                                balanced_embs.append(emb)\n",
    "                        except Exception:\n",
    "                            # fallback to duplication if SMOTE fails\n",
    "                            chosen = np.random.choice(members_global, size=n_gen, replace=True)\n",
    "                            for g in chosen:\n",
    "                                row = hrel_df.iloc[g].to_dict()\n",
    "                                row[\"_orig_index\"] = int(g)\n",
    "                                row[\"_is_synthetic\"] = False\n",
    "                                balanced_rows.append(row)\n",
    "                                balanced_embs.append(embeddings[g])\n",
    "\n",
    "                # log info\n",
    "                cluster_log[cond][int(cls)]['type'] = 'minority_oversampled'\n",
    "                cluster_log[cond][int(cls)]['counts_after_merge'] = counts_after\n",
    "                cluster_log[cond][int(cls)]['Wm'] = {int(k): float(v) for k, v in Wm.items()}\n",
    "                cluster_log[cond][int(cls)]['generated_per_cluster'] = {int(k): int(v) for k, v in per_cluster_hat.items()}\n",
    "\n",
    "    # build balanced DataFrame and embeddings array\n",
    "    balanced_df = pd.DataFrame(balanced_rows).reset_index(drop=True)\n",
    "    balanced_embeddings = np.vstack(balanced_embs) if len(balanced_embs) > 0 else np.zeros((0, embeddings.shape[1]))\n",
    "\n",
    "    return balanced_df, balanced_embeddings, cluster_log\n",
    "\n",
    "# Run HCBOU balancing\n",
    "\n",
    "train_df, test_df = train_test_split(\n",
    "    hrel,\n",
    "    test_size=0.2,\n",
    "    stratify=hrel['label'],   # keep original label distribution\n",
    "    random_state=SEED)\n",
    "\n",
    "\n",
    "balanced_df, balanced_embeddings, cluster_log = hc_bou_balance(\n",
    "    train_df,\n",
    "    pool_batch=64,\n",
    "    min_cluster_size=2,\n",
    "    max_k_search=10,\n",
    "    generation_method=\"smote\",\n",
    "    smote_k_neighbors=3\n",
    ")\n",
    "\n",
    "print(\"Original size:\", len(hrel))\n",
    "print(\"Balanced size:\", len(balanced_df))\n",
    "print(balanced_df['label'].value_counts())\n",
    "\n"
   ]
  },
  {
   "cell_type": "code",
   "execution_count": null,
   "metadata": {
    "colab": {
     "base_uri": "https://localhost:8080/",
     "height": 49,
     "referenced_widgets": [
      "54c14c5976e6422394484dc04c4c177b",
      "caeddf49fa584f8b80c70500a8eae3a0",
      "b510eaee0ea94957b7e089bf696e585e",
      "6fb78c520e7947a18f84c1ef72950fc9",
      "ada6cd1eb6814028b6fdbf3815885034",
      "6be99abd72b5442d90eaa1ced3a67aba",
      "5305d6a3e7b642f09a58cef4aa2062fb",
      "155d4b1e12e14517bf2dfe8c6c2b65b3",
      "171d3b5ae237497e9ed21e79b79b04b4",
      "de0860f866a44f20b5cdd9f7bdadf40a",
      "f57948514468420f896d1e06bb51f130"
     ]
    },
    "id": "AJmI2m4gq5SW",
    "outputId": "da1d8b76-2f3e-4633-ed9a-a5a1f44ed7cd"
   },
   "outputs": [
    {
     "data": {
      "application/vnd.jupyter.widget-view+json": {
       "model_id": "54c14c5976e6422394484dc04c4c177b",
       "version_major": 2,
       "version_minor": 0
      },
      "text/plain": [
       "Extracting embeddings:   0%|          | 0/8 [00:00<?, ?it/s]"
      ]
     },
     "metadata": {},
     "output_type": "display_data"
    }
   ],
   "source": [
    "test_embs = extract_embeddings(test_df['response'].astype(str).tolist(), batch_size=POOL_BATCH)"
   ]
  },
  {
   "cell_type": "code",
   "execution_count": null,
   "metadata": {
    "colab": {
     "base_uri": "https://localhost:8080/"
    },
    "id": "BPot-S0gED2D",
    "outputId": "1156213a-76af-4578-c18c-4db9e87169b2"
   },
   "outputs": [
    {
     "data": {
      "image/png": "[encoded data removed]",
      "text/plain": [
       "<Figure size 800x500 with 1 Axes>"
      ]
     },
     "metadata": {},
     "output_type": "display_data"
    }
   ],
   "source": [
    "\n",
    "# Determine common bin edges for both datasets\n",
    "all_labels = np.concatenate([balanced_df['label'], hrel['label']])\n",
    "bins = np.arange(all_labels.min(), all_labels.max() + 2) - 0.5  # For discrete labels\n",
    "\n",
    "plt.figure(figsize=(8,5))\n",
    "plt.hist(balanced_df['label'], bins=bins, alpha=0.5, label='HCBOU balanced', edgecolor='black')\n",
    "plt.hist(hrel['label'], bins=bins, alpha=0.5, label='Original', edgecolor='black')\n",
    "\n",
    "plt.xlabel('Label')\n",
    "plt.ylabel('Count')\n",
    "plt.title('Comparison of Label Distributions')\n",
    "plt.xticks(np.arange(all_labels.min(), all_labels.max()+1))  # Ensure ticks align with bins\n",
    "plt.legend()\n",
    "plt.grid(axis='y', linestyle='--', alpha=0.7)\n",
    "plt.show()\n"
   ]
  },
  {
   "cell_type": "markdown",
   "metadata": {
    "id": "wEYSTEtxjaHw"
   },
   "source": [
    "## Baseline with HCBOU\n",
    "\n"
   ]
  },
  {
   "cell_type": "code",
   "execution_count": null,
   "metadata": {
    "colab": {
     "background_save": true
    },
    "id": "teVNCMtojetK"
   },
   "outputs": [],
   "source": [
    "\n",
    "def run_random_forest(X_train, X_test, y_train, y_test ):\n",
    "\n",
    "    clf = RandomForestClassifier()\n",
    "    clf.fit(X_train, y_train)\n",
    "\n",
    "    y_pred = clf.predict(X_test)\n",
    "    print(\"Accuracy:\", accuracy_score(y_test, y_pred))\n",
    "    print(classification_report(y_test, y_pred))\n",
    "    clf.feature_importances_\n",
    "    return y_test, y_pred\n",
    "\n",
    "\n",
    "def run_xgboost(X_train, X_test, y_train, y_test , feature_type: str):\n",
    "\n",
    "    xgb_model = XGBClassifier(\n",
    "    objective='multi:softprob',  # Softmax with probabilities\n",
    "    num_class=10,\n",
    "    eval_metric='mlogloss',\n",
    "    use_label_encoder=False,\n",
    "    n_estimators=500,\n",
    "    learning_rate=0.05,\n",
    "    gamma=0.1,\n",
    "    subsample=0.8,\n",
    "    colsample_bytree=0.8,\n",
    "    scale_pos_weight=10\n",
    "    )\n",
    "\n",
    "    xgb_model.fit(X_train, y_train)\n",
    "\n",
    "    y_pred = xgb_model.predict(X_test)\n",
    "    beta = 2\n",
    "    f_beta = fbeta_score(y_test, y_pred, beta=beta, average=\"weighted\")\n",
    "    print(f\"Test Accuracy: {accuracy_score(y_test, y_pred)}\")\n",
    "    print(f\"Classification Report:\\n{classification_report(y_test, y_pred)}\")\n",
    "    print(f\"F-{beta} score: {f_beta:.2f}\")\n",
    "\n",
    "    plt.figure(figsize=(8, 5))\n",
    "    ax = plot_importance(xgb_model, importance_type='gain', title=title, max_num_features=10)\n",
    "    for text in ax.texts:\n",
    "        text.set_visible(False)\n",
    "    plt.tight_layout()\n",
    "    plt.show()\n",
    "\n",
    "\n",
    "    return y_pred, y_test, X_train, X_test, y_train, xgb_model"
   ]
  },
  {
   "cell_type": "code",
   "execution_count": null,
   "metadata": {
    "id": "Ip6u9sGAj8FY"
   },
   "outputs": [],
   "source": [
    "def create_conf_matrix(y_test, y_pred, model_name: str):\n",
    "    conf_mat = confusion_matrix(y_test, y_pred, normalize='true')\n",
    "    disp = ConfusionMatrixDisplay(conf_mat)\n",
    "    disp.plot()\n",
    "    disp.ax_.set_title(f\"{model_name}\")\n",
    "    plt.show()"
   ]
  },
  {
   "cell_type": "code",
   "execution_count": null,
   "metadata": {
    "colab": {
     "base_uri": "https://localhost:8080/",
     "height": 938
    },
    "id": "jVzqZ9yjjfve",
    "outputId": "7947d9af-1fe0-4c08-ee00-2ecb6f26eab4"
   },
   "outputs": [
    {
     "name": "stdout",
     "output_type": "stream",
     "text": [
      "Accuracy: 0.250501002004008\n",
      "              precision    recall  f1-score   support\n",
      "\n",
      "         0.0       0.00      0.00      0.00         4\n",
      "         1.0       0.00      0.00      0.00         2\n",
      "         2.0       0.00      0.00      0.00         4\n",
      "         3.0       0.00      0.00      0.00         9\n",
      "         4.0       0.00      0.00      0.00         8\n",
      "         5.0       0.00      0.00      0.00        15\n",
      "         6.0       0.06      0.15      0.09        39\n",
      "         7.0       0.20      0.28      0.23        80\n",
      "         8.0       0.20      0.32      0.24        98\n",
      "         9.0       0.52      0.28      0.36       240\n",
      "\n",
      "    accuracy                           0.25       499\n",
      "   macro avg       0.10      0.10      0.09       499\n",
      "weighted avg       0.32      0.25      0.26       499\n",
      "\n"
     ]
    },
    {
     "name": "stderr",
     "output_type": "stream",
     "text": [
      "/usr/local/lib/python3.11/dist-packages/sklearn/metrics/_classification.py:1565: UndefinedMetricWarning: Precision is ill-defined and being set to 0.0 in labels with no predicted samples. Use `zero_division` parameter to control this behavior.\n",
      "  _warn_prf(average, modifier, f\"{metric.capitalize()} is\", len(result))\n",
      "/usr/local/lib/python3.11/dist-packages/sklearn/metrics/_classification.py:1565: UndefinedMetricWarning: Precision is ill-defined and being set to 0.0 in labels with no predicted samples. Use `zero_division` parameter to control this behavior.\n",
      "  _warn_prf(average, modifier, f\"{metric.capitalize()} is\", len(result))\n",
      "/usr/local/lib/python3.11/dist-packages/sklearn/metrics/_classification.py:1565: UndefinedMetricWarning: Precision is ill-defined and being set to 0.0 in labels with no predicted samples. Use `zero_division` parameter to control this behavior.\n",
      "  _warn_prf(average, modifier, f\"{metric.capitalize()} is\", len(result))\n"
     ]
    },
    {
     "data": {
      "image/png": "[encoded data removed]",
      "text/plain": [
       "<Figure size 640x480 with 2 Axes>"
      ]
     },
     "metadata": {},
     "output_type": "display_data"
    }
   ],
   "source": [
    "rf_y_test, rf_y_pred = run_random_forest(balanced_embeddings, test_embs, balanced_df['label'], test_df['label'])\n",
    "create_conf_matrix(rf_y_test, rf_y_pred, \"Ramdom forest with HCBOU confusion matrix\")"
   ]
  },
  {
   "cell_type": "code",
   "execution_count": null,
   "metadata": {
    "colab": {
     "base_uri": "https://localhost:8080/",
     "height": 472
    },
    "id": "K0ki-L3usU0H",
    "outputId": "3cb73f7e-8394-4295-eea2-6a846540d5a5"
   },
   "outputs": [
    {
     "data": {
      "image/png": "[encoded data removed]",
      "text/plain": [
       "<Figure size 640x480 with 2 Axes>"
      ]
     },
     "metadata": {},
     "output_type": "display_data"
    }
   ],
   "source": [
    "create_conf_matrix(rf_y_test, rf_y_pred, \"Ramdom forest with HCBOU confusion matrix\")"
   ]
  },
  {
   "cell_type": "code",
   "execution_count": null,
   "metadata": {
    "id": "Nb5Ge7cAwIK0"
   },
   "outputs": [],
   "source": []
  },
  {
   "cell_type": "markdown",
   "metadata": {
    "id": "Qf4Jd0fOWiqI"
   },
   "source": [
    "# classifying into binary classes high & low"
   ]
  },
  {
   "cell_type": "code",
   "execution_count": null,
   "metadata": {
    "colab": {
     "base_uri": "https://localhost:8080/"
    },
    "id": "bqTWNjWYm2OI",
    "outputId": "c34af741-8dc6-4099-cbb6-f901911b8609"
   },
   "outputs": [
    {
     "name": "stderr",
     "output_type": "stream",
     "text": [
      "/tmp/ipython-input-383299899.py:2: SettingWithCopyWarning: \n",
      "A value is trying to be set on a copy of a slice from a DataFrame.\n",
      "Try using .loc[row_indexer,col_indexer] = value instead\n",
      "\n",
      "See the caveats in the documentation: https://pandas.pydata.org/pandas-docs/stable/user_guide/indexing.html#returning-a-view-versus-a-copy\n",
      "  low['label'] = 0\n",
      "/tmp/ipython-input-383299899.py:4: SettingWithCopyWarning: \n",
      "A value is trying to be set on a copy of a slice from a DataFrame.\n",
      "Try using .loc[row_indexer,col_indexer] = value instead\n",
      "\n",
      "See the caveats in the documentation: https://pandas.pydata.org/pandas-docs/stable/user_guide/indexing.html#returning-a-view-versus-a-copy\n",
      "  high['label'] = 1\n"
     ]
    }
   ],
   "source": [
    "low = hrel[hrel[\"label\"] <=6]\n",
    "low['label'] = 0\n",
    "high = hrel[hrel[\"label\"] >6]\n",
    "high['label'] = 1\n",
    "df_sep = pd.concat([low, high])"
   ]
  },
  {
   "cell_type": "code",
   "execution_count": null,
   "metadata": {
    "colab": {
     "base_uri": "https://localhost:8080/",
     "height": 192,
     "referenced_widgets": [
      "987e27e59b7949a5a7b811ee2b79da02",
      "432ce6ac8181482e9f5ab653d8bcaae2",
      "7f58c7c3e191440f83143a83e033f91e",
      "15fd24d87fb9498a887cbe752b3e3c4f",
      "405968bc998f48ad98e58c8a1b8d7c01",
      "d54577c70fdd4d50ab7e4eb6fcd54991",
      "cd2e85ae19bf47ab86d89153ce4248ac",
      "2b787b05834446cbbed661ee6ac09bc5",
      "520759090d9b4041b557822aec3c081f",
      "a6689132da814416a75db044f851af75",
      "9a4f80dfad4748018faea60295c94674",
      "6d772871102c4c95be909174dd4b96ab",
      "72fd376e952a473a9074b494589bf598",
      "fdb5b34e72494457a4a22e974137ecf7",
      "33adb344eeaa43f88bc76147714bd794",
      "e04fa024931a41e0bc820f1062319e70",
      "b12481c7bde346f9a8cf618bece689dc",
      "83bddffa184342cbb4608b5b7a13de85",
      "d852763cb86042b0ba2c1ff56b0ec5fa",
      "9fef148ebad4451291e80d8bb873fd7b",
      "26ecb1a9d2bb488c9bd325d8d744e134",
      "f35e2cb9729f43fdb2b4012e448e802c"
     ]
    },
    "id": "DB-sUjIa8Koh",
    "outputId": "d432f5e0-2c25-464e-cb7e-2eeb3c02ddd0"
   },
   "outputs": [
    {
     "data": {
      "application/vnd.jupyter.widget-view+json": {
       "model_id": "987e27e59b7949a5a7b811ee2b79da02",
       "version_major": 2,
       "version_minor": 0
      },
      "text/plain": [
       "Extracting embeddings:   0%|          | 0/32 [00:00<?, ?it/s]"
      ]
     },
     "metadata": {},
     "output_type": "display_data"
    },
    {
     "name": "stdout",
     "output_type": "stream",
     "text": [
      "Original size: 2494\n",
      "Balanced size: 1996\n",
      "label\n",
      "0    998\n",
      "1    998\n",
      "Name: count, dtype: int64\n"
     ]
    },
    {
     "data": {
      "application/vnd.jupyter.widget-view+json": {
       "model_id": "6d772871102c4c95be909174dd4b96ab",
       "version_major": 2,
       "version_minor": 0
      },
      "text/plain": [
       "Extracting embeddings:   0%|          | 0/8 [00:00<?, ?it/s]"
      ]
     },
     "metadata": {},
     "output_type": "display_data"
    }
   ],
   "source": [
    "train_df, test_df = train_test_split(\n",
    "    df_sep,\n",
    "    test_size=0.2,\n",
    "    stratify=df_sep['label'],   # keep original label distribution\n",
    "    random_state=SEED)\n",
    "\n",
    "\n",
    "balanced_df, balanced_embeddings, cluster_log = hc_bou_balance(\n",
    "    train_df,\n",
    "    pool_batch=64,\n",
    "    min_cluster_size=2,\n",
    "    max_k_search=10,\n",
    "    generation_method=\"smote\",\n",
    "    smote_k_neighbors=3\n",
    ")\n",
    "\n",
    "print(\"Original size:\", len(hrel))\n",
    "print(\"Balanced size:\", len(balanced_df))\n",
    "print(balanced_df['label'].value_counts())\n",
    "test_embs = extract_embeddings(test_df['response'].astype(str).tolist(), batch_size=POOL_BATCH)\n",
    "\n"
   ]
  },
  {
   "cell_type": "code",
   "execution_count": null,
   "metadata": {
    "colab": {
     "base_uri": "https://localhost:8080/",
     "height": 658
    },
    "id": "Y569RXc3xAjn",
    "outputId": "8d3eca76-2aff-430b-e16c-6fc2b85738d2"
   },
   "outputs": [
    {
     "name": "stdout",
     "output_type": "stream",
     "text": [
      "Accuracy: 0.8076152304609219\n",
      "              precision    recall  f1-score   support\n",
      "\n",
      "           0       0.26      0.10      0.14        81\n",
      "           1       0.84      0.94      0.89       418\n",
      "\n",
      "    accuracy                           0.81       499\n",
      "   macro avg       0.55      0.52      0.52       499\n",
      "weighted avg       0.75      0.81      0.77       499\n",
      "\n"
     ]
    },
    {
     "data": {
      "image/png": "[encoded data removed]",
      "text/plain": [
       "<Figure size 640x480 with 2 Axes>"
      ]
     },
     "metadata": {},
     "output_type": "display_data"
    }
   ],
   "source": [
    "rf_y_test, rf_y_pred = run_random_forest(balanced_embeddings, test_embs, balanced_df['label'], test_df['label'])\n",
    "create_conf_matrix(rf_y_test, rf_y_pred, \"Ramdom forest with HCBOU confusion matrix\")"
   ]
  }
 ],
 "metadata": {
  "accelerator": "GPU",
  "colab": {
   "gpuType": "T4",
   "provenance": []
  },
  "kernelspec": {
   "display_name": "Python 3",
   "name": "python3"
  },
  "language_info": {
   "codemirror_mode": {
    "name": "ipython",
    "version": 3
   },
   "file_extension": ".py",
   "mimetype": "text/x-python",
   "name": "python",
   "nbconvert_exporter": "python",
   "pygments_lexer": "ipython3",
   "version": "3.12.2"
  }
 },
 "nbformat": 4,
 "nbformat_minor": 0
}
