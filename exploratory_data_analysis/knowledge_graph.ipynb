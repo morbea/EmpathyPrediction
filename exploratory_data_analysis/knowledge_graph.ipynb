{
 "cells": [
  {
   "cell_type": "code",
   "execution_count": 1,
   "id": "3125f1e8",
   "metadata": {},
   "outputs": [],
   "source": [
    "import networkx as nx\n",
    "import spacy\n",
    "from collections import defaultdict\n",
    "from sklearn.feature_extraction.text import TfidfVectorizer\n",
    "from sklearn.metrics import mutual_info_score\n",
    "import numpy as np\n",
    "from scipy.stats import pearsonr\n",
    "import pandas as pd\n",
    "from tqdm import tqdm\n",
    "import plotly.graph_objects as go\n",
    "from sentence_transformers import SentenceTransformer\n",
    "from sklearn.metrics.pairwise import cosine_similarity\n"
   ]
  },
  {
   "cell_type": "code",
   "execution_count": 2,
   "id": "d714c26d",
   "metadata": {},
   "outputs": [],
   "source": [
    "import warnings\n",
    "warnings.filterwarnings('ignore')"
   ]
  },
  {
   "cell_type": "code",
   "execution_count": 3,
   "id": "7bcad7d4",
   "metadata": {},
   "outputs": [],
   "source": [
    "df = pd.read_csv('../data/Supplementary data - responses and measures.csv')\n",
    "df = df[~df['EmpathyQ_1'].isna()]\n",
    "df = df[~df['Response'].isna()]"
   ]
  },
  {
   "cell_type": "markdown",
   "id": "813ce943",
   "metadata": {},
   "source": [
    "## Graph construction"
   ]
  },
  {
   "cell_type": "markdown",
   "id": "7d5504a4",
   "metadata": {},
   "source": [
    "## Discover patterns and concepts"
   ]
  },
  {
   "cell_type": "code",
   "execution_count": 4,
   "id": "dd2db87a",
   "metadata": {},
   "outputs": [],
   "source": [
    "def discover_empathy_words_tf_idf(df: pd.DataFrame, empathy_col: str, min_score: float=7.0):    \n",
    "    high_empathy = df[df[empathy_col] >= min_score]['Response'].tolist()\n",
    "    low_empathy = df[df[empathy_col] < min_score]['Response'].tolist()\n",
    "    \n",
    "    vectorizer = TfidfVectorizer(\n",
    "        max_features=1000,\n",
    "        stop_words='english',\n",
    "        ngram_range=(1, 2),\n",
    "        min_df=2\n",
    "    )\n",
    "    \n",
    "    all_responses = high_empathy + low_empathy\n",
    "    tfidf_matrix = vectorizer.fit_transform(all_responses)\n",
    "    feature_names = vectorizer.get_feature_names_out()\n",
    "    \n",
    "    high_tfidf = tfidf_matrix[:len(high_empathy)].mean(axis=0).A1\n",
    "    low_tfidf = tfidf_matrix[len(high_empathy):].mean(axis=0).A1\n",
    "    \n",
    "    empathy_ratio = high_tfidf / (low_tfidf + 1e-8)\n",
    "    \n",
    "    top_indices = np.argsort(empathy_ratio)[-50:]\n",
    "    empathy_words = [(feature_names[i], empathy_ratio[i]) for i in top_indices]\n",
    "    \n",
    "    return empathy_words"
   ]
  },
  {
   "cell_type": "code",
   "execution_count": 5,
   "id": "1064ce10",
   "metadata": {},
   "outputs": [],
   "source": [
    "def discover_empathy_patterns_correlation(df):\n",
    "    \"\"\"Find patterns correlated with empathy scores\"\"\"\n",
    "    \n",
    "    vectorizer = TfidfVectorizer(\n",
    "        max_features=500,\n",
    "        stop_words='english',\n",
    "        ngram_range=(1, 3)\n",
    "    )\n",
    "    \n",
    "    tfidf_matrix = vectorizer.fit_transform(df['Response'])\n",
    "    feature_names = vectorizer.get_feature_names_out()\n",
    "    \n",
    "    correlations = []\n",
    "    for i, word in enumerate(feature_names):\n",
    "        word_scores = tfidf_matrix[:, i].toarray().flatten()\n",
    "        corr, p_value = pearsonr(word_scores, df['EmpathyQ_1'])\n",
    "        \n",
    "        if not np.isnan(corr) and p_value < 0.05:\n",
    "            correlations.append((word, corr, p_value))\n",
    "    \n",
    "    correlations.sort(key=lambda x: abs(x[1]), reverse=True)\n",
    "    return correlations[:30]"
   ]
  },
  {
   "cell_type": "code",
   "execution_count": 6,
   "id": "4cd77806",
   "metadata": {},
   "outputs": [],
   "source": [
    "def discover_empathy_concepts_mutual_info(df, empathy_threshold=5.0):\n",
    "    empathy_high = (df['EmpathyQ_1'] >= empathy_threshold).astype(int)\n",
    "    \n",
    "    vectorizer = TfidfVectorizer(\n",
    "        max_features=300,\n",
    "        stop_words='english',\n",
    "        binary=True, \n",
    "        ngram_range=(1, 2)\n",
    "    )\n",
    "    \n",
    "    feature_matrix = vectorizer.fit_transform(df['Response'])\n",
    "    feature_names = vectorizer.get_feature_names_out()\n",
    "    \n",
    "    mi_scores = []\n",
    "    for i in range(feature_matrix.shape[1]):\n",
    "        feature_values = feature_matrix[:, i].toarray().flatten()\n",
    "        mi_score = mutual_info_score(empathy_high, feature_values)\n",
    "        mi_scores.append((feature_names[i], mi_score))\n",
    "    mi_scores.sort(key=lambda x: x[1], reverse=True)\n",
    "    return mi_scores[:25]"
   ]
  },
  {
   "cell_type": "code",
   "execution_count": 7,
   "id": "fa9dbeaa",
   "metadata": {},
   "outputs": [],
   "source": [
    "def discover_empathy_concepts_semantic(df, empathy_threshold=7.0):\n",
    "    model = SentenceTransformer('all-MiniLM-L6-v2')\n",
    "    \n",
    "    high_empathy_responses = df[df['EmpathyQ_1'] >= empathy_threshold]['Response'].tolist()\n",
    "    low_empathy_responses = df[df['EmpathyQ_1'] < empathy_threshold]['Response'].tolist()\n",
    "    \n",
    "    high_embeddings = model.encode(high_empathy_responses)\n",
    "    low_embeddings = model.encode(low_empathy_responses)\n",
    "    high_centroid = np.mean(high_embeddings, axis=0)\n",
    "    low_centroid = np.mean(low_embeddings, axis=0)\n",
    "    \n",
    "    all_words = []\n",
    "    for response in df['Response']:\n",
    "        words = response.lower().split()\n",
    "        all_words.extend(words)\n",
    "    \n",
    "    unique_words = list(set(all_words))\n",
    "    word_embeddings = model.encode(unique_words)\n",
    "    \n",
    "    similarities_high = cosine_similarity([high_centroid], word_embeddings)[0]\n",
    "    similarities_low = cosine_similarity([low_centroid], word_embeddings)[0]\n",
    "    \n",
    "    # Words more similar to high empathy than low empathy\n",
    "    empathy_diff = similarities_high - similarities_low\n",
    "    \n",
    "    word_scores = list(zip(unique_words, empathy_diff))\n",
    "    word_scores.sort(key=lambda x: x[1], reverse=True)\n",
    "    \n",
    "    return word_scores[:30]"
   ]
  },
  {
   "cell_type": "markdown",
   "id": "df1af08a",
   "metadata": {},
   "source": [
    "## Entity extraction"
   ]
  },
  {
   "cell_type": "code",
   "execution_count": 8,
   "id": "72d93041",
   "metadata": {},
   "outputs": [],
   "source": [
    "def extract_linguistic_patterns(doc):\n",
    "    patterns = []\n",
    "    \n",
    "    # Question patterns\n",
    "    if doc.text.strip().endswith('?'):\n",
    "        patterns.append(('question', 1.0))\n",
    "    \n",
    "    # Apology patterns\n",
    "    for token in doc:\n",
    "        if token.lemma_ in ['sorry', 'apologize'] and token.pos_ in ['ADJ', 'VERB']:\n",
    "            patterns.append(('apology_pattern', 1.0))\n",
    "    \n",
    "    # First person patterns\n",
    "    first_person_count = sum(1 for token in doc if token.text.lower() in ['i', 'me', 'my'])\n",
    "    if first_person_count > 0:\n",
    "        patterns.append(('first_person', first_person_count / len(doc)))\n",
    "    \n",
    "    return patterns"
   ]
  },
  {
   "cell_type": "code",
   "execution_count": 9,
   "id": "bbecce3e",
   "metadata": {},
   "outputs": [],
   "source": [
    "def extract_empathy_entities(response_text, discovered_concepts):\n",
    "    \n",
    "    nlp = spacy.load(\"en_core_web_sm\")\n",
    "    doc = nlp(response_text)\n",
    "    \n",
    "    entities = {\n",
    "        'empathy_concepts': [],\n",
    "        'emotional_states': [],\n",
    "        'linguistic_patterns': [],\n",
    "        'named_entities': []\n",
    "    }\n",
    "    \n",
    "    response_lower = response_text.lower()\n",
    "    for concept, score in discovered_concepts:\n",
    "        if concept in response_lower and score > 0.1:  # Threshold\n",
    "            entities['empathy_concepts'].append((concept, score))\n",
    "    \n",
    "    # Extract other patterns\n",
    "    entities['named_entities'] = [(ent.text, ent.label_) for ent in doc.ents]\n",
    "    entities['linguistic_patterns'] = extract_linguistic_patterns(doc)\n",
    "    \n",
    "    return entities\n",
    "\n"
   ]
  },
  {
   "cell_type": "markdown",
   "id": "2f52b234",
   "metadata": {},
   "source": [
    "# Build knowledge graph"
   ]
  },
  {
   "cell_type": "code",
   "execution_count": 10,
   "id": "a1902e4b",
   "metadata": {},
   "outputs": [],
   "source": [
    "def get_concept_coocurrence(graph, response_nodes):\n",
    "    concept_cooccurrence = defaultdict(int)\n",
    "    \n",
    "    for response in response_nodes:\n",
    "        concepts = [n for n in graph.neighbors(response) \n",
    "                   if graph.nodes[n]['type'] == 'empathy_concept']\n",
    "        \n",
    "        for i, c1 in enumerate(concepts):\n",
    "            for c2 in concepts[i+1:]:\n",
    "                concept_cooccurrence[(c1, c2)] += 1\n",
    "    return concept_cooccurrence\n"
   ]
  },
  {
   "cell_type": "code",
   "execution_count": 11,
   "id": "071474fb",
   "metadata": {},
   "outputs": [],
   "source": [
    "def build_graph(df, top_concepts):\n",
    "    graph = nx.Graph()\n",
    "    \n",
    "    for idx, row in tqdm(df.iterrows(), total=len(df)):\n",
    "        response_id = f\"response_{idx}\"\n",
    "        empathy_score = row['EmpathyQ_1']\n",
    "        \n",
    "        graph.add_node(response_id, \n",
    "                  type='response',\n",
    "                  empathy_score=empathy_score,\n",
    "                  text=row['Response'],\n",
    "                  cognitive=row.get('cognitive', 0),\n",
    "                  affective=row.get('affective', 0),\n",
    "                  motivational=row.get('motivational', 0))\n",
    "        \n",
    "\n",
    "        entities = extract_empathy_entities(row['Response'], top_concepts)\n",
    "        \n",
    "        # add concept nodes\n",
    "        for concept, strength in entities['empathy_concepts']:\n",
    "            concept_id = f\"concept_{concept}\"\n",
    "            \n",
    "            if not graph.has_node(concept_id):\n",
    "                graph.add_node(concept_id, \n",
    "                          type='empathy_concept',\n",
    "                          discovered_strength=dict(top_concepts).get(concept, 0))\n",
    "            \n",
    "            graph.add_edge(response_id, concept_id, \n",
    "                      weight=strength,\n",
    "                      edge_type='contains_concept')\n",
    "        \n",
    "        # add linguistic pattern nodes\n",
    "        for pattern, strength in entities['linguistic_patterns']:\n",
    "            pattern_id = f\"pattern_{pattern}\"\n",
    "            \n",
    "            if not graph.has_node(pattern_id):\n",
    "                graph.add_node(pattern_id, type='linguistic_pattern')\n",
    "            \n",
    "            graph.add_edge(response_id, pattern_id, \n",
    "                      weight=strength,\n",
    "                      edge_type='uses_pattern')\n",
    "    \n",
    "    # add concept-concept relationships based on co-occurrence\n",
    "    response_nodes = [n for n in graph.nodes() if graph.nodes[n]['type'] == 'response']\n",
    "    concept_cooccurrence = get_concept_coocurrence(graph, response_nodes)\n",
    "    \n",
    "    for (c1, c2), cnt in concept_cooccurrence.items():\n",
    "        if cnt >= 3:\n",
    "            graph.add_edge(c1, c2, \n",
    "                      weight=cnt,\n",
    "                      edge_type='co_occurs_with')\n",
    "    \n",
    "    print(f\"Built knowledge graph with {graph.number_of_nodes()} nodes and {graph.number_of_edges()} edges\")\n",
    "    return graph\n"
   ]
  },
  {
   "cell_type": "code",
   "execution_count": 12,
   "id": "a6e9eeb0",
   "metadata": {},
   "outputs": [],
   "source": [
    "def build_kg(df, empathy_col: str):\n",
    "    \"\"\"Build knowledge graph using automatically discovered concepts\"\"\"\n",
    "\n",
    "    stat_empathy_words = discover_empathy_words_tf_idf(df, empathy_col)\n",
    "    corr_patterns = discover_empathy_patterns_correlation(df)\n",
    "    mi_concepts = discover_empathy_concepts_mutual_info(df)\n",
    "    semantic_concepts = discover_empathy_concepts_semantic(df)\n",
    "\n",
    "    # combination of the methods\n",
    "    all_concepts = {}\n",
    "    for word, ratio in stat_empathy_words:\n",
    "        all_concepts[word] = all_concepts.get(word, 0) + ratio * 0.3\n",
    "\n",
    "    for word, corr, _ in corr_patterns:\n",
    "        all_concepts[word] = all_concepts.get(word, 0) + abs(corr) * 0.3\n",
    "\n",
    "    for word, mi_score in mi_concepts:\n",
    "        all_concepts[word] = all_concepts.get(word, 0) + mi_score * 0.2\n",
    "\n",
    "    for word, sem_score in semantic_concepts:\n",
    "        all_concepts[word] = all_concepts.get(word, 0) + max(0, sem_score) * 0.2\n",
    "\n",
    "    sorted_concepts = sorted(all_concepts.items(), key=lambda x: x[1], reverse=True)\n",
    "    top_concepts = sorted_concepts[:50]\n",
    "\n",
    "    print(f\"Top discovered empathy concepts: {[w for w, s in top_concepts[:10]]}\")\n",
    "    graph = build_graph(df, top_concepts)\n",
    "    return graph, top_concepts\n"
   ]
  },
  {
   "cell_type": "markdown",
   "id": "1ec2e97e",
   "metadata": {},
   "source": [
    "## Get graph"
   ]
  },
  {
   "cell_type": "code",
   "execution_count": 13,
   "id": "acc0332f",
   "metadata": {},
   "outputs": [
    {
     "name": "stdout",
     "output_type": "stream",
     "text": [
      "Top discovered empathy concepts: ['absence', 'genuine', 'reflect', 'overcome', 'valuable', 'heartbreak', 'gesture', 'reflecting', 'presents', 'cousin']\n"
     ]
    },
    {
     "name": "stderr",
     "output_type": "stream",
     "text": [
      "100%|██████████| 2494/2494 [14:34<00:00,  2.85it/s]"
     ]
    },
    {
     "name": "stdout",
     "output_type": "stream",
     "text": [
      "Built knowledge graph with 2542 nodes and 6507 edges\n",
      "Top discovered empathy indicators:\n",
      "  absence: 115172.504\n",
      "  genuine: 90643.850\n",
      "  reflect: 85480.893\n",
      "  overcome: 80632.178\n",
      "  valuable: 77706.262\n",
      "  heartbreak: 73059.487\n",
      "  gesture: 66139.298\n",
      "  reflecting: 63591.819\n",
      "  presents: 61794.551\n",
      "  cousin: 60979.989\n"
     ]
    },
    {
     "name": "stderr",
     "output_type": "stream",
     "text": [
      "\n"
     ]
    }
   ],
   "source": [
    "graph, discovered_concepts = build_kg(df, 'EmpathyQ_1')\n",
    "\n",
    "print(\"Top discovered empathy indicators:\")\n",
    "for concept, score in discovered_concepts[:10]:\n",
    "    print(f\"  {concept}: {score:.3f}\")\n",
    "\n",
    "empathy_concepts = [n for n in graph.nodes() if graph.nodes[n]['type'] == 'empathy_concept']"
   ]
  },
  {
   "cell_type": "markdown",
   "id": "4aca153e",
   "metadata": {},
   "source": [
    "# sample x responses from the graph for an easier presentation"
   ]
  },
  {
   "cell_type": "code",
   "execution_count": 14,
   "id": "e2fe9e6c",
   "metadata": {},
   "outputs": [],
   "source": [
    "def get_connected_nodes(graph, response_nodes):\n",
    "    connected_nodes = set(response_nodes)\n",
    "    for response_node in response_nodes:\n",
    "        if response_node in graph:\n",
    "            neighbors = list(graph.neighbors(response_node))\n",
    "            connected_nodes.update(neighbors)\n",
    "    return connected_nodes"
   ]
  },
  {
   "cell_type": "code",
   "execution_count": 15,
   "id": "1af5aaed",
   "metadata": {},
   "outputs": [],
   "source": [
    "levels = {\n",
    "        'Very High (8-9)': [8, 9],\n",
    "        'High (6-7)': [6, 7], \n",
    "        'Medium (4-5)': [4, 5],\n",
    "        'Low (2-3)': [2, 3],\n",
    "        'Very Low (0-1)': [0, 1]\n",
    "}\n",
    "\n",
    "level_colors = {\n",
    "        'Very High (8-9)': '#8B0000',\n",
    "        'High (6-7)': '#DC143C', \n",
    "        'Medium (4-5)': '#FF4500',\n",
    "        'Low (2-3)': '#FFA500',\n",
    "        'Very Low (0-1)': '#FFD700'\n",
    "    }"
   ]
  },
  {
   "cell_type": "code",
   "execution_count": 16,
   "id": "9869d1df",
   "metadata": {},
   "outputs": [],
   "source": [
    "def edges_by_levels(sampled_graph, df):\n",
    "    edges_and_levels = {level: [] for level in level_colors.keys()}\n",
    "    for edge in sampled_graph.edges():\n",
    "        source, target = edge\n",
    "        \n",
    "        # which empathy level the source response belongs to\n",
    "        if 'response_' in source:\n",
    "            response_idx = int(source.split('_')[1])\n",
    "            empathy_score = df.loc[response_idx, 'EmpathyQ_1']\n",
    "            \n",
    "            if empathy_score >= 8:\n",
    "                level = 'Very High (8-9)'\n",
    "            elif empathy_score >= 6:\n",
    "                level = 'High (6-7)'\n",
    "            elif empathy_score >= 4:\n",
    "                level = 'Medium (4-5)'\n",
    "            elif empathy_score >= 2:\n",
    "                level = 'Low (2-3)'\n",
    "            else:\n",
    "                level = 'Very Low (0-1)'\n",
    "                \n",
    "            edges_and_levels[level].append(edge)\n",
    "    return edges_and_levels"
   ]
  },
  {
   "cell_type": "code",
   "execution_count": 17,
   "id": "2c4119c8",
   "metadata": {},
   "outputs": [],
   "source": [
    "def create_sampled_empathy_graph(df, graph, samples_per_level=5, empathy_col='EmpathyQ_1'):\n",
    "    empathy_scores = df[empathy_col].fillna(0)\n",
    "    sampled_indices = []\n",
    "    level_info = {}\n",
    "        \n",
    "    for level_name, (min_score, max_score) in levels.items():\n",
    "        level_mask = (empathy_scores >= min_score) & (empathy_scores <= max_score)\n",
    "        level_indices = df[level_mask].index.tolist()\n",
    "        \n",
    "        if len(level_indices) == 0:\n",
    "            print(f\"  {level_name}: No responses found\")\n",
    "            continue\n",
    "            \n",
    "        sample_size = min(samples_per_level, len(level_indices))\n",
    "        if sample_size > 0:\n",
    "            if len(level_indices) <= samples_per_level:\n",
    "                selected_response = level_indices\n",
    "            else:\n",
    "                level_df = df.loc[level_indices].sort_values(empathy_col)\n",
    "                step = len(level_df) // sample_size\n",
    "                selected_response = []\n",
    "                for i in range(sample_size):\n",
    "                    idx = min(i * step, len(level_df) - 1)\n",
    "                    selected_response.append(level_df.iloc[idx].name)\n",
    "            \n",
    "            sampled_indices.extend(selected_response)\n",
    "            level_info[level_name] = {\n",
    "                'indices': selected_response,\n",
    "                'scores': [empathy_scores[idx] for idx in selected_response],\n",
    "                'count': len(level_indices),\n",
    "                'sampled': len(selected_response)\n",
    "            }\n",
    "            \n",
    "            print(f\"{level_name}: {len(selected_response)}/{len(level_indices)} sampled\")\n",
    "    \n",
    "    \n",
    "    response_nodes = [f\"response_{idx}\" for idx in sampled_indices]\n",
    "    connected_nodes = get_connected_nodes(graph, response_nodes)\n",
    "    sampled_graph = graph.subgraph(connected_nodes)\n",
    "    print(f\"Sampled graph: {sampled_graph.number_of_nodes()} nodes, {sampled_graph.number_of_edges()} edges\")\n",
    "    return sampled_graph, level_info, sampled_indices\n"
   ]
  },
  {
   "cell_type": "code",
   "execution_count": 18,
   "id": "aba00532",
   "metadata": {},
   "outputs": [],
   "source": [
    "def analyze_sampled_patterns(G_sampled, level_info):    \n",
    "    concept_by_level = defaultdict(lambda: defaultdict(int))\n",
    "    \n",
    "    for level_name, info in level_info.items():\n",
    "        if not info['indices']:\n",
    "            continue\n",
    "            \n",
    "        level_response_nodes = [f\"response_{idx}\" for idx in info['indices']]\n",
    "        \n",
    "        for response_node in level_response_nodes:\n",
    "            if response_node in G_sampled:\n",
    "                neighbors = [n for n in G_sampled.neighbors(response_node) if 'concept_' in str(n)]\n",
    "                for concept in neighbors:\n",
    "                    clean_concept = concept.replace('concept_', '')\n",
    "                    concept_by_level[level_name][clean_concept] += 1\n",
    "    \n",
    "    for level_name, concepts in concept_by_level.items():\n",
    "        if concepts:\n",
    "            print(f\"\\n {level_name}:\")\n",
    "            top_concepts = sorted(concepts.items(), key=lambda x: x[1], reverse=True)[:5]\n",
    "            for concept, count in top_concepts:\n",
    "                print(f\"   • {concept}: {count} responses\")\n",
    "    \n",
    "    all_concepts = defaultdict(int)\n",
    "    for level_concepts in concept_by_level.values():\n",
    "        for concept, count in level_concepts.items():\n",
    "            all_concepts[concept] += count\n",
    "    \n",
    "    print(f\"\\nMOST POPULAR CONCEPTS OVERALL:\")\n",
    "    top_overall = sorted(all_concepts.items(), key=lambda x: x[1], reverse=True)[:8]\n",
    "    for concept, count in top_overall:\n",
    "        print(f\"{concept}: {count} total uses\")\n",
    "\n",
    "def run_sampled_empathy_analysis(df, graph, samples_per_level=5):  \n",
    "    sampled_graph, level_info, sampled_indices = create_sampled_empathy_graph(\n",
    "        df, graph, samples_per_level=samples_per_level\n",
    "    )\n",
    "    \n",
    "    analyze_sampled_patterns(sampled_graph, level_info)    \n",
    "    return sampled_graph, level_info\n"
   ]
  },
  {
   "cell_type": "code",
   "execution_count": 19,
   "id": "f1de2a62",
   "metadata": {},
   "outputs": [
    {
     "name": "stdout",
     "output_type": "stream",
     "text": [
      "Very High (8-9): 25/1687 sampled\n",
      "High (6-7): 25/593 sampled\n",
      "Medium (4-5): 25/117 sampled\n",
      "Low (2-3): 25/66 sampled\n",
      "Very Low (0-1): 25/31 sampled\n",
      "Sampled graph: 156 nodes, 374 edges\n",
      "\n",
      " Very High (8-9):\n",
      "   • stand: 8 responses\n",
      "   • forget: 2 responses\n",
      "   • act: 2 responses\n",
      "   • feels: 2 responses\n",
      "   • heartbreak: 2 responses\n",
      "\n",
      " High (6-7):\n",
      "   • stand: 8 responses\n",
      "   • genuine: 3 responses\n",
      "   • act: 2 responses\n",
      "   • perfect: 2 responses\n",
      "   • reflect: 2 responses\n",
      "\n",
      " Medium (4-5):\n",
      "   • stand: 12 responses\n",
      "   • act: 4 responses\n",
      "   • genuine: 4 responses\n",
      "   • unexpectedly: 1 responses\n",
      "   • milestone: 1 responses\n",
      "\n",
      " Low (2-3):\n",
      "   • stand: 10 responses\n",
      "   • act: 4 responses\n",
      "   • heartbreak: 2 responses\n",
      "   • forget: 2 responses\n",
      "   • perfect: 1 responses\n",
      "\n",
      " Very Low (0-1):\n",
      "   • stand: 6 responses\n",
      "   • act: 2 responses\n",
      "   • confidence: 1 responses\n",
      "   • perfect: 1 responses\n",
      "   • seek: 1 responses\n",
      "\n",
      "MOST POPULAR CONCEPTS OVERALL:\n",
      "stand: 44 total uses\n",
      "act: 14 total uses\n",
      "genuine: 9 total uses\n",
      "heartbreak: 5 total uses\n",
      "perfect: 5 total uses\n",
      "forget: 4 total uses\n",
      "reflect: 4 total uses\n",
      "deeply relate: 3 total uses\n"
     ]
    }
   ],
   "source": [
    "sampled_graph, level_info = run_sampled_empathy_analysis(df, graph, samples_per_level=25)"
   ]
  },
  {
   "cell_type": "code",
   "execution_count": 20,
   "id": "7db5d3c1",
   "metadata": {},
   "outputs": [],
   "source": [
    "def create_colored_edges(G_sampled, df, level_info, pos):\n",
    "    edge_traces = []\n",
    "    edges_by_level = edges_by_levels(G_sampled, df)\n",
    "    for level_name, edges in edges_by_level.items():\n",
    "        if not edges:\n",
    "            continue\n",
    "            \n",
    "        edge_x, edge_y = [], []\n",
    "        for edge in edges:\n",
    "            x0, y0 = pos[edge[0]]\n",
    "            x1, y1 = pos[edge[1]]\n",
    "            edge_x.extend([x0, x1, None])\n",
    "            edge_y.extend([y0, y1, None])\n",
    "        \n",
    "        edge_traces.append(go.Scatter(\n",
    "            x=edge_x, y=edge_y,\n",
    "            line=dict(width=1.5, color=level_colors[level_name]),\n",
    "            hoverinfo='none',\n",
    "            mode='lines',\n",
    "            showlegend=False,\n",
    "            name=f'{level_name}_edges'\n",
    "        ))\n",
    "    \n",
    "    return edge_traces"
   ]
  },
  {
   "cell_type": "code",
   "execution_count": 21,
   "id": "9fee7551",
   "metadata": {},
   "outputs": [],
   "source": [
    "def color_size_concept_nodes(G_sampled, concept_nodes):\n",
    "    concept_sizes = []\n",
    "    concept_colors = []\n",
    "        \n",
    "    for node in concept_nodes:\n",
    "        discovery_strength = G_sampled.nodes[node].get('discovered_strength', 0)\n",
    "        connectivity = G_sampled.degree(node)\n",
    "            \n",
    "        normalized_strength = min(discovery_strength / 10000, 1.0)\n",
    "        size = max(normalized_strength * 30 + connectivity * 5, 15)\n",
    "        concept_sizes.append(size)\n",
    "            \n",
    "        intensity = min(connectivity / 5, 1.0)\n",
    "        concept_colors.append(intensity)\n",
    "    return concept_sizes,concept_colors\n",
    "\n",
    "\n",
    "def create_txt_concept_nodes(sampled_graph, df, concept_nodes):\n",
    "    concept_hover = []\n",
    "        \n",
    "    for node in concept_nodes:\n",
    "        clean_name = node.replace('concept_', '').title()\n",
    "        discovery_strength = sampled_graph.nodes[node].get('discovered_strength', 0)\n",
    "        connectivity = sampled_graph.degree(node)\n",
    "            \n",
    "        connected_responses = [n for n in sampled_graph.neighbors(node) if 'response_' in str(n)]\n",
    "        levels_using = set()\n",
    "            \n",
    "        for response_node in connected_responses:\n",
    "            idx = int(response_node.split('_')[1])\n",
    "            empathy_score = df.loc[idx, 'EmpathyQ_1']\n",
    "                \n",
    "            if empathy_score >= 8:\n",
    "                levels_using.add('Very High')\n",
    "            elif empathy_score >= 6:\n",
    "                levels_using.add('High')\n",
    "            elif empathy_score >= 4:\n",
    "                levels_using.add('Medium')\n",
    "            elif empathy_score >= 2:\n",
    "                levels_using.add('Low')\n",
    "            else:\n",
    "                levels_using.add('Very Low')\n",
    "            \n",
    "        txt = f\"<b>{clean_name}</b><br>\"\n",
    "        txt += f\"Discovery Strength: {discovery_strength:.0f}<br>\"\n",
    "        txt += f\"Connected to {connectivity} responses<br>\"\n",
    "        txt += f\"Used in levels: {', '.join(sorted(levels_using))}\"\n",
    "            \n",
    "        concept_hover.append(txt)\n",
    "    return concept_hover\n"
   ]
  },
  {
   "cell_type": "code",
   "execution_count": 22,
   "id": "40bfc51f",
   "metadata": {},
   "outputs": [],
   "source": [
    "def pattern_node_txt(sampled_graph, pattern_nodes):\n",
    "    pattern_hover = []\n",
    "    for node in pattern_nodes:\n",
    "        clean_name = node.replace('pattern_', '').replace('_', ' ').title()\n",
    "        connectivity = sampled_graph.degree(node)\n",
    "            \n",
    "        txt = f\"<b>{clean_name}</b><br>\"\n",
    "        txt += f\"Type: Linguistic Pattern<br>\"\n",
    "        txt += f\"Used in {connectivity} responses<br>\"\n",
    "        txt += f\"Indicates: {clean_name.lower()} usage in empathetic responses\"\n",
    "            \n",
    "        pattern_hover.append(txt)\n",
    "    return pattern_hover"
   ]
  },
  {
   "cell_type": "code",
   "execution_count": 23,
   "id": "5ebd8bc6",
   "metadata": {},
   "outputs": [],
   "source": [
    "level_y_positions = {\n",
    "            'Very High (8-9)': 4,\n",
    "            'High (6-7)': 2,\n",
    "            'Medium (4-5)': 0,\n",
    "            'Low (2-3)': -2,\n",
    "            'Very Low (0-1)': -4\n",
    "        }"
   ]
  },
  {
   "cell_type": "code",
   "execution_count": 38,
   "id": "ce8e6adf",
   "metadata": {},
   "outputs": [
    {
     "data": {
      "application/vnd.plotly.v1+json": {
       "config": {
        "plotlyServerURL": "https://plot.ly"
       },
       "data": [
        {
         "hoverinfo": "none",
         "line": {
          "color": "#8B0000",
          "width": 1.5
         },
         "mode": "lines",
         "name": "Very High (8-9)_edges",
         "showlegend": false,
         "type": "scatter",
         "x": [
          16.5,
          -10,
          null,
          -34.5,
          -0.6217788172217441,
          null,
          -34.5,
          -10,
          null,
          -34.5,
          -10,
          null,
          -10.5,
          -0.05030172622371955,
          null,
          -10.5,
          1.3369424512764667,
          null,
          -10.5,
          -10,
          null,
          -37.5,
          -0.8243437247380032,
          null,
          -37.5,
          -10,
          null,
          19.5,
          3.3027291189892587,
          null,
          19.5,
          -10,
          null,
          19.5,
          -10,
          null,
          25.5,
          0.31349594229082,
          null,
          25.5,
          -0.6808083776321016,
          null,
          25.5,
          -10,
          null,
          -22.5,
          -10,
          null,
          10.5,
          -0.30749533592389866,
          null,
          10.5,
          -2.4991559134044703,
          null,
          10.5,
          -10,
          null,
          -16.5,
          -10,
          null,
          34.5,
          1.3369424512764667,
          null,
          34.5,
          -3.3755503789134824,
          null,
          34.5,
          -10,
          null,
          -7.5,
          -10,
          null,
          31.5,
          -0.18925065526220813,
          null,
          31.5,
          -10,
          null,
          7.5,
          -0.019068644737337267,
          null,
          7.5,
          -10,
          null,
          -19.5,
          -10,
          null,
          -4.5,
          -0.8989957517840236,
          null,
          -4.5,
          -10,
          null,
          1.5,
          -10,
          null,
          -28.5,
          -10,
          null,
          13.5,
          -10,
          null,
          -1.5,
          -10,
          null,
          4.5,
          -10,
          null,
          -31.5,
          -10,
          null,
          -25.5,
          -10,
          null,
          22.5,
          -10,
          null
         ],
         "y": [
          4,
          1,
          null,
          4,
          -2.354042735289134,
          null,
          4,
          -3,
          null,
          4,
          1,
          null,
          4,
          -0.16831887036396884,
          null,
          4,
          -1.6256828546021267,
          null,
          4,
          1,
          null,
          4,
          -0.670349277498014,
          null,
          4,
          1,
          null,
          4,
          0.13364651003271216,
          null,
          4,
          -3,
          null,
          4,
          1,
          null,
          4,
          -0.4691996323031155,
          null,
          4,
          1.008145050959548,
          null,
          4,
          1,
          null,
          4,
          1,
          null,
          4,
          -1.113435187938919,
          null,
          4,
          2.912328362943134,
          null,
          4,
          1,
          null,
          4,
          1,
          null,
          4,
          -1.6256828546021267,
          null,
          4,
          0.4893201568042761,
          null,
          4,
          1,
          null,
          4,
          1,
          null,
          4,
          3,
          null,
          4,
          1,
          null,
          4,
          0.4602087964450797,
          null,
          4,
          1,
          null,
          4,
          1,
          null,
          4,
          -0.19763185315905774,
          null,
          4,
          1,
          null,
          4,
          1,
          null,
          4,
          1,
          null,
          4,
          1,
          null,
          4,
          1,
          null,
          4,
          1,
          null,
          4,
          1,
          null,
          4,
          1,
          null,
          4,
          1,
          null
         ]
        },
        {
         "hoverinfo": "none",
         "line": {
          "color": "#DC143C",
          "width": 1.5
         },
         "mode": "lines",
         "name": "High (6-7)_edges",
         "showlegend": false,
         "type": "scatter",
         "x": [
          -1.5,
          -0.8243437247380032,
          null,
          -1.5,
          -0.6808083776321016,
          null,
          -1.5,
          -10,
          null,
          7.5,
          -2.6476863037398775,
          null,
          7.5,
          -0.30749533592389866,
          null,
          7.5,
          -10,
          null,
          16.5,
          -2.4991559134044703,
          null,
          16.5,
          -3.3755503789134824,
          null,
          16.5,
          -10,
          null,
          25.5,
          -10,
          null,
          -34.5,
          -10,
          null,
          28.5,
          0.31349594229082,
          null,
          10.5,
          -3.677758007411713,
          null,
          10.5,
          -10,
          null,
          13.5,
          -0.019068644737337267,
          null,
          13.5,
          0.8403671412267442,
          null,
          13.5,
          -0.18925065526220813,
          null,
          13.5,
          2.069501692943404,
          null,
          34.5,
          -0.8243437247380032,
          null,
          34.5,
          4.169935160268045,
          null,
          34.5,
          -10,
          null,
          -7.5,
          -0.019068644737337267,
          null,
          -7.5,
          -10,
          null,
          -37.5,
          -0.8243437247380032,
          null,
          -37.5,
          -10,
          null,
          -10.5,
          -10,
          null,
          31.5,
          -10,
          null,
          -22.5,
          -10,
          null,
          22.5,
          -10,
          null,
          4.5,
          -10,
          null,
          1.5,
          -10,
          null,
          -28.5,
          -10,
          null,
          -13.5,
          -10,
          null,
          -31.5,
          -10,
          null,
          -19.5,
          -10,
          null,
          19.5,
          -10,
          null,
          -16.5,
          -10,
          null
         ],
         "y": [
          2,
          -0.670349277498014,
          null,
          2,
          1.008145050959548,
          null,
          2,
          1,
          null,
          2,
          -2.3393512088815482,
          null,
          2,
          -1.113435187938919,
          null,
          2,
          1,
          null,
          2,
          2.912328362943134,
          null,
          2,
          0.4893201568042761,
          null,
          2,
          1,
          null,
          2,
          1,
          null,
          2,
          1,
          null,
          2,
          -0.4691996323031155,
          null,
          2,
          2.0504716731902493,
          null,
          2,
          1,
          null,
          2,
          0.4602087964450797,
          null,
          2,
          2.014123929010862,
          null,
          2,
          3,
          null,
          2,
          -2.209423578262558,
          null,
          2,
          -0.670349277498014,
          null,
          2,
          -1.519435617501772,
          null,
          2,
          1,
          null,
          2,
          0.4602087964450797,
          null,
          2,
          1,
          null,
          2,
          -0.670349277498014,
          null,
          2,
          1,
          null,
          2,
          1,
          null,
          2,
          1,
          null,
          2,
          1,
          null,
          2,
          1,
          null,
          2,
          1,
          null,
          2,
          1,
          null,
          2,
          1,
          null,
          2,
          1,
          null,
          2,
          1,
          null,
          2,
          1,
          null,
          2,
          1,
          null,
          2,
          1,
          null
         ]
        },
        {
         "hoverinfo": "none",
         "line": {
          "color": "#FF4500",
          "width": 1.5
         },
         "mode": "lines",
         "name": "Medium (4-5)_edges",
         "showlegend": false,
         "type": "scatter",
         "x": [
          -1.5,
          -0.05030172622371955,
          null,
          -1.5,
          -10,
          null,
          -10.5,
          -10,
          null,
          -10.5,
          -10,
          null,
          -28.5,
          -10,
          null,
          -31.5,
          -10,
          null,
          10.5,
          -10,
          null,
          22.5,
          -0.8243437247380032,
          null,
          22.5,
          0.31349594229082,
          null,
          22.5,
          -10,
          null,
          13.5,
          -10,
          null,
          -4.5,
          -10,
          null,
          -25.5,
          -10,
          null,
          28.5,
          -10,
          null,
          -16.5,
          -10,
          null,
          7.5,
          -10,
          null,
          1.5,
          -10,
          null,
          4.5,
          -10,
          null,
          -34.5,
          -10,
          null,
          16.5,
          -10,
          null,
          -13.5,
          -10,
          null,
          -22.5,
          -10,
          null,
          34.5,
          -10,
          null
         ],
         "y": [
          0,
          -0.16831887036396884,
          null,
          0,
          1,
          null,
          0,
          -3,
          null,
          0,
          1,
          null,
          0,
          1,
          null,
          0,
          1,
          null,
          0,
          1,
          null,
          0,
          -0.670349277498014,
          null,
          0,
          -0.4691996323031155,
          null,
          0,
          1,
          null,
          0,
          1,
          null,
          0,
          1,
          null,
          0,
          1,
          null,
          0,
          1,
          null,
          0,
          1,
          null,
          0,
          1,
          null,
          0,
          1,
          null,
          0,
          1,
          null,
          0,
          1,
          null,
          0,
          1,
          null,
          0,
          1,
          null,
          0,
          1,
          null,
          0,
          1,
          null
         ]
        },
        {
         "hoverinfo": "none",
         "line": {
          "color": "#FFA500",
          "width": 1.5
         },
         "mode": "lines",
         "name": "Low (2-3)_edges",
         "showlegend": false,
         "type": "scatter",
         "x": [
          31.5,
          -0.8243437247380032,
          null,
          31.5,
          -3.3755503789134824,
          null,
          31.5,
          -10,
          null,
          -4.5,
          -0.019068644737337267,
          null,
          -1.5,
          -10,
          null,
          28.5,
          -10,
          null,
          1.5,
          -10,
          null,
          -37.5,
          -10,
          null,
          -28.5,
          -10,
          null,
          -22.5,
          -10,
          null,
          34.5,
          3.3027291189892587,
          null,
          34.5,
          -10,
          null,
          -34.5,
          -10,
          null,
          19.5,
          -10,
          null,
          -7.5,
          -10,
          null,
          -19.5,
          -0.8989957517840236,
          null,
          25.5,
          -10,
          null,
          7.5,
          -0.8989957517840236,
          null,
          -10.5,
          -10,
          null,
          13.5,
          -10,
          null,
          -16.5,
          -10,
          null,
          -13.5,
          -10,
          null,
          16.5,
          -10,
          null,
          22.5,
          -10,
          null,
          -25.5,
          -10,
          null,
          4.5,
          -10,
          null
         ],
         "y": [
          -2,
          -0.670349277498014,
          null,
          -2,
          0.4893201568042761,
          null,
          -2,
          1,
          null,
          -2,
          0.4602087964450797,
          null,
          -2,
          1,
          null,
          -2,
          1,
          null,
          -2,
          1,
          null,
          -2,
          1,
          null,
          -2,
          1,
          null,
          -2,
          1,
          null,
          -2,
          0.13364651003271216,
          null,
          -2,
          1,
          null,
          -2,
          1,
          null,
          -2,
          1,
          null,
          -2,
          1,
          null,
          -2,
          -0.19763185315905774,
          null,
          -2,
          1,
          null,
          -2,
          -0.19763185315905774,
          null,
          -2,
          1,
          null,
          -2,
          1,
          null,
          -2,
          1,
          null,
          -2,
          1,
          null,
          -2,
          1,
          null,
          -2,
          1,
          null,
          -2,
          1,
          null,
          -2,
          1,
          null
         ]
        },
        {
         "hoverinfo": "none",
         "line": {
          "color": "#FFD700",
          "width": 1.5
         },
         "mode": "lines",
         "name": "Very Low (0-1)_edges",
         "showlegend": false,
         "type": "scatter",
         "x": [
          -34.5,
          -0.30749533592389866,
          null,
          -34.5,
          -10,
          null,
          31.5,
          2.42656458792621,
          null,
          31.5,
          -10,
          null,
          -16.5,
          -2.9849134018776304,
          null,
          -16.5,
          -10,
          null,
          1.5,
          -0.05030172622371955,
          null,
          1.5,
          -10,
          null,
          1.5,
          -10,
          null,
          25.5,
          -3.677758007411713,
          null,
          25.5,
          -10,
          null,
          13.5,
          -10,
          null,
          -13.5,
          -10,
          null,
          34.5,
          -10,
          null,
          7.5,
          -10,
          null,
          -7.5,
          -10,
          null,
          -19.5,
          -10,
          null,
          -4.5,
          -0.6808083776321016,
          null,
          -4.5,
          -10,
          null,
          22.5,
          -10,
          null,
          10.5,
          -10,
          null,
          28.5,
          -10,
          null,
          -28.5,
          -10,
          null,
          -22.5,
          -10,
          null,
          16.5,
          -10,
          null,
          19.5,
          -10,
          null,
          -37.5,
          -10,
          null,
          -10.5,
          -10,
          null,
          -31.5,
          -10,
          null
         ],
         "y": [
          -4,
          -1.113435187938919,
          null,
          -4,
          1,
          null,
          -4,
          -0.47163718684015765,
          null,
          -4,
          1,
          null,
          -4,
          -1.218627260449223,
          null,
          -4,
          1,
          null,
          -4,
          -0.16831887036396884,
          null,
          -4,
          -3,
          null,
          -4,
          1,
          null,
          -4,
          2.0504716731902493,
          null,
          -4,
          1,
          null,
          -4,
          1,
          null,
          -4,
          1,
          null,
          -4,
          1,
          null,
          -4,
          1,
          null,
          -4,
          1,
          null,
          -4,
          1,
          null,
          -4,
          1.008145050959548,
          null,
          -4,
          1,
          null,
          -4,
          1,
          null,
          -4,
          1,
          null,
          -4,
          1,
          null,
          -4,
          1,
          null,
          -4,
          1,
          null,
          -4,
          1,
          null,
          -4,
          1,
          null,
          -4,
          1,
          null,
          -4,
          1,
          null,
          -4,
          1,
          null
         ]
        },
        {
         "hoverinfo": "text",
         "hovertext": [
          "<b>Response 737</b><br>Empathy Level: Very High (8-9)<br>Empathy Score: 8.00<br>Connected Concepts: 1<br>Key Words: genuine<br><br>Text: <i>I'm genuinely touched by your story and I can clearly envision the profound joy ...</i>",
          "<b>Response 1924</b><br>Empathy Level: Very High (8-9)<br>Empathy Score: 8.00<br>Connected Concepts: 1<br>Key Words: valuable<br><br>Text: <i>I'm so sorry that you're experiencing this, and I want you to know that your wor...</i>",
          "<b>Response 748</b><br>Empathy Level: Very High (8-9)<br>Empathy Score: 8.00<br>Connected Concepts: 1<br>Key Words: forget<br><br>Text: <i>I'm so sorry to hear about your grandmother's dementia diagnosis. It must be inc...</i>",
          "<b>Response 1360</b><br>Empathy Level: Very High (8-9)<br>Empathy Score: 8.00<br>Connected Concepts: 1<br>Key Words: presence<br><br>Text: <i>I'm really sorry to hear about your grandad's health and I can imagine how heart...</i>",
          "<b>Response 1831</b><br>Empathy Level: Very High (8-9)<br>Empathy Score: 8.00<br>Connected Concepts: 2<br>Key Words: act, deeply relate<br><br>Text: <i>I'm really sorry to hear about your unexpected breakup, especially given how pro...</i>",
          "<b>Response 2418</b><br>Empathy Level: Very High (8-9)<br>Empathy Score: 8.00<br>Connected Concepts: 1<br>Key Words: stand<br><br>Text: <i>I'm so sorry to hear about your daughter's job loss, especially so close to Chri...</i>",
          "<b>Response 2268</b><br>Empathy Level: Very High (8-9)<br>Empathy Score: 8.00<br>Connected Concepts: 0<br><br>Text: <i>I'm really sorry to hear that you're going through such a tough time, but rememb...</i>",
          "<b>Response 462</b><br>Empathy Level: Very High (8-9)<br>Empathy Score: 8.00<br>Connected Concepts: 0<br><br>Text: <i>I can truly resonate with the blend of joy, sorrow, and anticipation you experie...</i>",
          "<b>Response 1728</b><br>Empathy Level: Very High (8-9)<br>Empathy Score: 9.00<br>Connected Concepts: 1<br>Key Words: stand<br><br>Text: <i>It's clear how much you're missing your girlfriend, especially on your four-mont...</i>",
          "<b>Response 1489</b><br>Empathy Level: Very High (8-9)<br>Empathy Score: 9.00<br>Connected Concepts: 2<br>Key Words: stand, feels<br><br>Text: <i>I can sense your growing frustration and deep sadness with this situation as it ...</i>",
          "<b>Response 1624</b><br>Empathy Level: Very High (8-9)<br>Empathy Score: 9.00<br>Connected Concepts: 1<br>Key Words: stand<br><br>Text: <i>I can understand the intense concern and fear you're feeling as your child is ex...</i>",
          "<b>Response 2248</b><br>Empathy Level: Very High (8-9)<br>Empathy Score: 9.00<br>Connected Concepts: 1<br>Key Words: heartbreak<br><br>Text: <i>My heart really aches with you as I, too, have been in that place of sorrow and ...</i>",
          "<b>Response 2194</b><br>Empathy Level: Very High (8-9)<br>Empathy Score: 9.00<br>Connected Concepts: 1<br>Key Words: heartbreak<br><br>Text: <i>I'm really sorry to hear that you're feeling underappreciated and undervalued at...</i>",
          "<b>Response 2309</b><br>Empathy Level: Very High (8-9)<br>Empathy Score: 9.00<br>Connected Concepts: 0<br><br>Text: <i>I can truly relate to the heartache and disappointment you're feeling right now....</i>",
          "<b>Response 1988</b><br>Empathy Level: Very High (8-9)<br>Empathy Score: 9.00<br>Connected Concepts: 1<br>Key Words: stand<br><br>Text: <i>I'm really sorry to hear that you're going through this; disagreements with frie...</i>",
          "<b>Response 523</b><br>Empathy Level: Very High (8-9)<br>Empathy Score: 9.00<br>Connected Concepts: 1<br>Key Words: reflect<br><br>Text: <i>I'm truly touched by what you witnessed; it's hard not to feel an overwhelming s...</i>",
          "<b>Response 481</b><br>Empathy Level: Very High (8-9)<br>Empathy Score: 9.00<br>Connected Concepts: 3<br>Key Words: perfect, stand, daily<br><br>Text: <i>I'm really sorry to hear that you had to leave your job and it's perfectly under...</i>",
          "<b>Response 607</b><br>Empathy Level: Very High (8-9)<br>Empathy Score: 9.00<br>Connected Concepts: 1<br>Key Words: stand<br><br>Text: <i>I'm truly sorry to hear about your disappointment with the project, especially a...</i>",
          "<b>Response 156</b><br>Empathy Level: Very High (8-9)<br>Empathy Score: 9.00<br>Connected Concepts: 0<br><br>Text: <i>Wow, I can only imagine the whirlwind of emotions you experienced when you final...</i>",
          "<b>Response 380</b><br>Empathy Level: Very High (8-9)<br>Empathy Score: 9.00<br>Connected Concepts: 1<br>Key Words: forget<br><br>Text: <i>I'm so sorry to hear about your grandma's diagnosis. It must be incredibly diffi...</i>",
          "<b>Response 761</b><br>Empathy Level: Very High (8-9)<br>Empathy Score: 9.00<br>Connected Concepts: 1<br>Key Words: moments like<br><br>Text: <i>It must be so gratifying to see your son truly grasp the spirit and magic of Chr...</i>",
          "<b>Response 1191</b><br>Empathy Level: Very High (8-9)<br>Empathy Score: 9.00<br>Connected Concepts: 2<br>Key Words: act, colleague<br><br>Text: <i>I'm so sorry for the loss of your colleague, but his legacy lives on in such a b...</i>",
          "<b>Response 1296</b><br>Empathy Level: Very High (8-9)<br>Empathy Score: 9.00<br>Connected Concepts: 1<br>Key Words: true<br><br>Text: <i>It's absolutely heartwarming to hear how much joy you get from seeing your famil...</i>",
          "<b>Response 960</b><br>Empathy Level: Very High (8-9)<br>Empathy Score: 9.00<br>Connected Concepts: 1<br>Key Words: cousin<br><br>Text: <i>I'm really sorry to hear about your cousin. It's normal to feel a mix of sadness...</i>",
          "<b>Response 1077</b><br>Empathy Level: Very High (8-9)<br>Empathy Score: 9.00<br>Connected Concepts: 3<br>Key Words: stand, feels, acknowledge<br><br>Text: <i>I'm really sorry to hear about your grandad. It's understandable that Christmas ...</i>"
         ],
         "legendgroup": "responses",
         "marker": {
          "color": "#8B0000",
          "line": {
           "color": "white",
           "width": 3
          },
          "opacity": 0.9,
          "size": [
           32,
           32,
           32,
           32,
           32,
           32,
           32,
           32,
           36,
           36,
           36,
           36,
           36,
           36,
           36,
           36,
           36,
           36,
           36,
           36,
           36,
           36,
           36,
           36,
           36
          ],
          "symbol": "circle"
         },
         "mode": "markers+text",
         "name": "Very High (8-9) Responses (25)",
         "showlegend": true,
         "text": [
          "R737",
          "R1924",
          "R748",
          "R1360",
          "R1831",
          "R2418",
          "R2268",
          "R462",
          "R1728",
          "R1489",
          "R1624",
          "R2248",
          "R2194",
          "R2309",
          "R1988",
          "R523",
          "R481",
          "R607",
          "R156",
          "R380",
          "R761",
          "R1191",
          "R1296",
          "R960",
          "R1077"
         ],
         "textfont": {
          "color": "white",
          "family": "Arial Black",
          "size": 10
         },
         "textposition": "middle center",
         "type": "scatter",
         "x": [
          -37.5,
          -34.5,
          -31.5,
          -28.5,
          -25.5,
          -22.5,
          -19.5,
          -16.5,
          -13.5,
          -10.5,
          -7.5,
          -4.5,
          -1.5,
          1.5,
          4.5,
          7.5,
          10.5,
          13.5,
          16.5,
          19.5,
          22.5,
          25.5,
          28.5,
          31.5,
          34.5
         ],
         "y": [
          4,
          4,
          4,
          4,
          4,
          4,
          4,
          4,
          4,
          4,
          4,
          4,
          4,
          4,
          4,
          4,
          4,
          4,
          4,
          4,
          4,
          4,
          4,
          4,
          4
         ]
        },
        {
         "hoverinfo": "text",
         "hovertext": [
          "<b>Response 2</b><br>Empathy Level: High (6-7)<br>Empathy Score: 6.00<br>Connected Concepts: 2<br>Key Words: genuine, act<br><br>Text: <i>I'm really sorry to hear about the immense stress and anxiety that your work was...</i>",
          "<b>Response 1474</b><br>Empathy Level: High (6-7)<br>Empathy Score: 6.00<br>Connected Concepts: 0<br><br>Text: <i>I can vividly feel your rising sense of anxiety and the sick feeling washing ove...</i>",
          "<b>Response 697</b><br>Empathy Level: High (6-7)<br>Empathy Score: 6.00<br>Connected Concepts: 1<br>Key Words: stand<br><br>Text: <i>I'm incredibly sorry to hear about the burglary at your granny's place, and I co...</i>",
          "<b>Response 872</b><br>Empathy Level: High (6-7)<br>Empathy Score: 6.00<br>Connected Concepts: 1<br>Key Words: stand<br><br>Text: <i>I'm so sorry to hear about your friend's Mum's passing. It's understandable that...</i>",
          "<b>Response 1900</b><br>Empathy Level: High (6-7)<br>Empathy Score: 6.00<br>Connected Concepts: 1<br>Key Words: perfect<br><br>Text: <i>It's truly heartwarming to hear about your tender emotions towards the new addit...</i>",
          "<b>Response 1657</b><br>Empathy Level: High (6-7)<br>Empathy Score: 6.00<br>Connected Concepts: 1<br>Key Words: stand<br><br>Text: <i>I'm really proud of you for pushing through your anxiety to get your hair cut. R...</i>",
          "<b>Response 1825</b><br>Empathy Level: High (6-7)<br>Empathy Score: 6.00<br>Connected Concepts: 0<br><br>Text: <i>I'm really sorry to hear that you're going through such a tough time, but rememb...</i>",
          "<b>Response 51</b><br>Empathy Level: High (6-7)<br>Empathy Score: 6.00<br>Connected Concepts: 0<br><br>Text: <i>It sounds like you had an amazing time at your friends' Halloween party. The art...</i>",
          "<b>Response 579</b><br>Empathy Level: High (6-7)<br>Empathy Score: 6.00<br>Connected Concepts: 0<br><br>Text: <i>I can only imagine the whirlwind of emotions you must have experienced. It must ...</i>",
          "<b>Response 1835</b><br>Empathy Level: High (6-7)<br>Empathy Score: 7.00<br>Connected Concepts: 1<br>Key Words: handle<br><br>Text: <i>I'm truly sorry to hear about the frustration and anger you experienced over suc...</i>",
          "<b>Response 192</b><br>Empathy Level: High (6-7)<br>Empathy Score: 7.00<br>Connected Concepts: 1<br>Key Words: reflect<br><br>Text: <i>I'm really sorry to hear that you had to go through such an uncomfortable situat...</i>",
          "<b>Response 200</b><br>Empathy Level: High (6-7)<br>Empathy Score: 7.00<br>Connected Concepts: 0<br><br>Text: <i>I'm so sorry that you're experiencing this deep pain and sorrow. Anniversaries o...</i>",
          "<b>Response 1978</b><br>Empathy Level: High (6-7)<br>Empathy Score: 7.00<br>Connected Concepts: 2<br>Key Words: genuine, colleague<br><br>Text: <i>I'm genuinely sorry to hear about the tension and anxiety you and your colleague...</i>",
          "<b>Response 2238</b><br>Empathy Level: High (6-7)<br>Empathy Score: 7.00<br>Connected Concepts: 0<br><br>Text: <i>I am truly sorry to hear about your situation, and I can deeply sense the distre...</i>",
          "<b>Response 17</b><br>Empathy Level: High (6-7)<br>Empathy Score: 7.00<br>Connected Concepts: 1<br>Key Words: stand<br><br>Text: <i>I'm really sorry to hear about your break-up, it sounds like you're going throug...</i>",
          "<b>Response 1994</b><br>Empathy Level: High (6-7)<br>Empathy Score: 7.00<br>Connected Concepts: 3<br>Key Words: milestone, perfect, stand<br><br>Text: <i>I can sense your bittersweet emotions as you navigate this important milestone i...</i>",
          "<b>Response 2145</b><br>Empathy Level: High (6-7)<br>Empathy Score: 7.00<br>Connected Concepts: 1<br>Key Words: deeply relate<br><br>Text: <i>I can deeply relate to the joy you felt during that special Christmas, as the ex...</i>",
          "<b>Response 894</b><br>Empathy Level: High (6-7)<br>Empathy Score: 7.00<br>Connected Concepts: 4<br>Key Words: reflect, reflecting, cousin<br><br>Text: <i>It sounds like witnessing your cousin's wedding was an extremely emotional and h...</i>",
          "<b>Response 1034</b><br>Empathy Level: High (6-7)<br>Empathy Score: 7.00<br>Connected Concepts: 3<br>Key Words: stand, daily, acknowledge<br><br>Text: <i>I'm really sorry to hear that you had to spend so much time apart from your part...</i>",
          "<b>Response 699</b><br>Empathy Level: High (6-7)<br>Empathy Score: 7.00<br>Connected Concepts: 1<br>Key Words: stand<br><br>Text: <i>I'm really sorry to hear that you're going through this tough time at work, and ...</i>",
          "<b>Response 527</b><br>Empathy Level: High (6-7)<br>Empathy Score: 7.00<br>Connected Concepts: 2<br>Key Words: stand, void<br><br>Text: <i>I'm truly sorry to hear about your loss and the immense pain you're enduring rig...</i>",
          "<b>Response 752</b><br>Empathy Level: High (6-7)<br>Empathy Score: 7.00<br>Connected Concepts: 0<br><br>Text: <i>I'm so sorry to hear about your COVID diagnosis, but it's encouraging to know th...</i>",
          "<b>Response 304</b><br>Empathy Level: High (6-7)<br>Empathy Score: 7.00<br>Connected Concepts: 1<br>Key Words: act<br><br>Text: <i>Congratulations on your victory! It must feel incredibly rewarding to see all th...</i>",
          "<b>Response 1514</b><br>Empathy Level: High (6-7)<br>Empathy Score: 7.00<br>Connected Concepts: 0<br><br>Text: <i>I can feel those butterflies fluttering in my belly as well – the mix of anticip...</i>",
          "<b>Response 344</b><br>Empathy Level: High (6-7)<br>Empathy Score: 7.00<br>Connected Concepts: 2<br>Key Words: genuine, gesture<br><br>Text: <i>I can only imagine how meaningful and rewarding it must have been for you to rec...</i>"
         ],
         "legendgroup": "responses",
         "marker": {
          "color": "#DC143C",
          "line": {
           "color": "white",
           "width": 3
          },
          "opacity": 0.9,
          "size": [
           24,
           24,
           24,
           24,
           24,
           24,
           24,
           24,
           24,
           28,
           28,
           28,
           28,
           28,
           28,
           28,
           28,
           28,
           28,
           28,
           28,
           28,
           28,
           28,
           28
          ],
          "symbol": "circle"
         },
         "mode": "markers+text",
         "name": "High (6-7) Responses (25)",
         "showlegend": true,
         "text": [
          "R2",
          "R1474",
          "R697",
          "R872",
          "R1900",
          "R1657",
          "R1825",
          "R51",
          "R579",
          "R1835",
          "R192",
          "R200",
          "R1978",
          "R2238",
          "R17",
          "R1994",
          "R2145",
          "R894",
          "R1034",
          "R699",
          "R527",
          "R752",
          "R304",
          "R1514",
          "R344"
         ],
         "textfont": {
          "color": "white",
          "family": "Arial Black",
          "size": 10
         },
         "textposition": "middle center",
         "type": "scatter",
         "x": [
          -37.5,
          -34.5,
          -31.5,
          -28.5,
          -25.5,
          -22.5,
          -19.5,
          -16.5,
          -13.5,
          -10.5,
          -7.5,
          -4.5,
          -1.5,
          1.5,
          4.5,
          7.5,
          10.5,
          13.5,
          16.5,
          19.5,
          22.5,
          25.5,
          28.5,
          31.5,
          34.5
         ],
         "y": [
          2,
          2,
          2,
          2,
          2,
          2,
          2,
          2,
          2,
          2,
          2,
          2,
          2,
          2,
          2,
          2,
          2,
          2,
          2,
          2,
          2,
          2,
          2,
          2,
          2
         ]
        },
        {
         "hoverinfo": "text",
         "hovertext": [
          "<b>Response 1898</b><br>Empathy Level: Medium (4-5)<br>Empathy Score: 4.00<br>Connected Concepts: 1<br>Key Words: stand<br><br>Text: <i>I'm really sorry to hear that you felt ill during your much-anticipated holiday,...</i>",
          "<b>Response 815</b><br>Empathy Level: Medium (4-5)<br>Empathy Score: 4.00<br>Connected Concepts: 1<br>Key Words: stand<br><br>Text: <i>I'm really sorry to hear that you had a disagreement with your partner, especial...</i>",
          "<b>Response 1879</b><br>Empathy Level: Medium (4-5)<br>Empathy Score: 4.00<br>Connected Concepts: 0<br><br>Text: <i>It's clear that you felt a deep sense of joy and relief playing the game with yo...</i>",
          "<b>Response 1789</b><br>Empathy Level: Medium (4-5)<br>Empathy Score: 4.00<br>Connected Concepts: 0<br><br>Text: <i>I can see just how deeply conflicted you feel right now, having to choose betwee...</i>",
          "<b>Response 1767</b><br>Empathy Level: Medium (4-5)<br>Empathy Score: 4.00<br>Connected Concepts: 0<br><br>Text: <i>I'm so proud of you! Your perseverance and determination really paid off in both...</i>",
          "<b>Response 1605</b><br>Empathy Level: Medium (4-5)<br>Empathy Score: 4.00<br>Connected Concepts: 0<br><br>Text: <i>I gather that you're feeling quite frustrated and upset with your boyfriend's be...</i>",
          "<b>Response 1921</b><br>Empathy Level: Medium (4-5)<br>Empathy Score: 4.00<br>Connected Concepts: 0<br><br>Text: <i>It's clear that you had a delightful time out with your friends, but then experi...</i>",
          "<b>Response 613</b><br>Empathy Level: Medium (4-5)<br>Empathy Score: 4.00<br>Connected Concepts: 2<br>Key Words: act, unexpectedly<br><br>Text: <i>I'm really sorry to hear that you're going through this. It's so tough when feel...</i>",
          "<b>Response 2311</b><br>Empathy Level: Medium (4-5)<br>Empathy Score: 4.00<br>Connected Concepts: 2<br>Key Words: act, stand<br><br>Text: <i>I can see how you would feel disheartened by your mom not returning your call im...</i>",
          "<b>Response 2336</b><br>Empathy Level: Medium (4-5)<br>Empathy Score: 4.00<br>Connected Concepts: 0<br><br>Text: <i>I'm truly sorry to hear about the distressing situation you're going through wit...</i>",
          "<b>Response 1592</b><br>Empathy Level: Medium (4-5)<br>Empathy Score: 5.00<br>Connected Concepts: 2<br>Key Words: act, stand<br><br>Text: <i>I'm really sorry for what you've been through, but also glad you found comfort i...</i>",
          "<b>Response 1622</b><br>Empathy Level: Medium (4-5)<br>Empathy Score: 5.00<br>Connected Concepts: 1<br>Key Words: stand<br><br>Text: <i>I'm really feeling your shock and confusion at seeing your parents in such a vul...</i>",
          "<b>Response 1750</b><br>Empathy Level: Medium (4-5)<br>Empathy Score: 5.00<br>Connected Concepts: 1<br>Key Words: stand<br><br>Text: <i>I can truly understand your mixed emotions while reading such a story. It's a te...</i>",
          "<b>Response 1779</b><br>Empathy Level: Medium (4-5)<br>Empathy Score: 5.00<br>Connected Concepts: 0<br><br>Text: <i>It's so thrilling to hear about how you broke your usual barriers and delved int...</i>",
          "<b>Response 1875</b><br>Empathy Level: Medium (4-5)<br>Empathy Score: 5.00<br>Connected Concepts: 1<br>Key Words: stand<br><br>Text: <i>I can understand that witnessing a loved one's confronting journey through a ser...</i>",
          "<b>Response 1457</b><br>Empathy Level: Medium (4-5)<br>Empathy Score: 5.00<br>Connected Concepts: 0<br><br>Text: <i>I can deeply feel your self-doubt and tension as you waited, the stress of the u...</i>",
          "<b>Response 1778</b><br>Empathy Level: Medium (4-5)<br>Empathy Score: 5.00<br>Connected Concepts: 1<br>Key Words: stand<br><br>Text: <i>I'm really sorry to hear about your dad and the tough situation you found yourse...</i>",
          "<b>Response 555</b><br>Empathy Level: Medium (4-5)<br>Empathy Score: 5.00<br>Connected Concepts: 1<br>Key Words: stand<br><br>Text: <i>I'm really sorry that you're feeling this way. It's understandable you're hurt a...</i>",
          "<b>Response 418</b><br>Empathy Level: Medium (4-5)<br>Empathy Score: 5.00<br>Connected Concepts: 1<br>Key Words: stand<br><br>Text: <i>That's absolutely fantastic, and I can feel your rush of triumph! I understand h...</i>",
          "<b>Response 289</b><br>Empathy Level: Medium (4-5)<br>Empathy Score: 5.00<br>Connected Concepts: 2<br>Key Words: genuine, stand<br><br>Text: <i>I'm genuinely sorry to hear about this overwhelming ordeal you've been facing. I...</i>",
          "<b>Response 178</b><br>Empathy Level: Medium (4-5)<br>Empathy Score: 5.00<br>Connected Concepts: 2<br>Key Words: genuine, act<br><br>Text: <i>I am truly sorry to hear about the break-in at your shop, especially considering...</i>",
          "<b>Response 117</b><br>Empathy Level: Medium (4-5)<br>Empathy Score: 5.00<br>Connected Concepts: 0<br><br>Text: <i>It sounds like you and your partner shared a truly awe-inspiring moment in Barce...</i>",
          "<b>Response 60</b><br>Empathy Level: Medium (4-5)<br>Empathy Score: 5.00<br>Connected Concepts: 1<br>Key Words: milestone<br><br>Text: <i>Congratulations! I can only imagine how monumental it must have felt to witness ...</i>",
          "<b>Response 769</b><br>Empathy Level: Medium (4-5)<br>Empathy Score: 5.00<br>Connected Concepts: 3<br>Key Words: genuine, children, stand<br><br>Text: <i>I'm really sorry to hear that you're feeling this way, it must be tough not bein...</i>",
          "<b>Response 1350</b><br>Empathy Level: Medium (4-5)<br>Empathy Score: 5.00<br>Connected Concepts: 1<br>Key Words: genuine<br><br>Text: <i>I'm genuinely sorry to hear about your Grandma's deteriorating condition, I can ...</i>"
         ],
         "legendgroup": "responses",
         "marker": {
          "color": "#FF4500",
          "line": {
           "color": "white",
           "width": 3
          },
          "opacity": 0.9,
          "size": [
           20,
           20,
           20,
           20,
           20,
           20,
           20,
           20,
           20,
           20,
           20,
           20,
           20,
           20,
           20,
           20,
           20,
           20,
           20,
           20,
           20,
           20,
           20,
           20,
           20
          ],
          "symbol": "circle"
         },
         "mode": "markers+text",
         "name": "Medium (4-5) Responses (25)",
         "showlegend": true,
         "text": [
          "R1898",
          "R815",
          "R1879",
          "R1789",
          "R1767",
          "R1605",
          "R1921",
          "R613",
          "R2311",
          "R2336",
          "R1592",
          "R1622",
          "R1750",
          "R1779",
          "R1875",
          "R1457",
          "R1778",
          "R555",
          "R418",
          "R289",
          "R178",
          "R117",
          "R60",
          "R769",
          "R1350"
         ],
         "textfont": {
          "color": "white",
          "family": "Arial Black",
          "size": 10
         },
         "textposition": "middle center",
         "type": "scatter",
         "x": [
          -37.5,
          -34.5,
          -31.5,
          -28.5,
          -25.5,
          -22.5,
          -19.5,
          -16.5,
          -13.5,
          -10.5,
          -7.5,
          -4.5,
          -1.5,
          1.5,
          4.5,
          7.5,
          10.5,
          13.5,
          16.5,
          19.5,
          22.5,
          25.5,
          28.5,
          31.5,
          34.5
         ],
         "y": [
          0,
          0,
          0,
          0,
          0,
          0,
          0,
          0,
          0,
          0,
          0,
          0,
          0,
          0,
          0,
          0,
          0,
          0,
          0,
          0,
          0,
          0,
          0,
          0,
          0
         ]
        },
        {
         "hoverinfo": "text",
         "hovertext": [
          "<b>Response 1366</b><br>Empathy Level: Low (2-3)<br>Empathy Score: 2.00<br>Connected Concepts: 0<br><br>Text: <i>I can appreciate how difficult it must have been for you to spend New Year's day...</i>",
          "<b>Response 1431</b><br>Empathy Level: Low (2-3)<br>Empathy Score: 2.00<br>Connected Concepts: 2<br>Key Words: perfect, stand<br><br>Text: <i>I understand that not being able to spend the festive season with your family wa...</i>",
          "<b>Response 1337</b><br>Empathy Level: Low (2-3)<br>Empathy Score: 2.00<br>Connected Concepts: 0<br><br>Text: <i>I'm so glad to hear that you had such a wonderful time! Time spent with good fri...</i>",
          "<b>Response 1907</b><br>Empathy Level: Low (2-3)<br>Empathy Score: 2.00<br>Connected Concepts: 0<br><br>Text: <i>I'm really sorry you're feeling this way. We all have moments where we don't mak...</i>",
          "<b>Response 728</b><br>Empathy Level: Low (2-3)<br>Empathy Score: 2.00<br>Connected Concepts: 1<br>Key Words: act<br><br>Text: <i>Wow, it sounds like that unexpected call you received from your distant family m...</i>",
          "<b>Response 629</b><br>Empathy Level: Low (2-3)<br>Empathy Score: 2.00<br>Connected Concepts: 1<br>Key Words: stand<br><br>Text: <i>I'm sincerely sorry to hear about the health issues and uncertainty you're curre...</i>",
          "<b>Response 2048</b><br>Empathy Level: Low (2-3)<br>Empathy Score: 2.00<br>Connected Concepts: 3<br>Key Words: heartbreak, act, stand<br><br>Text: <i>It's completely understandable that you felt such sadness witnessing that heartb...</i>",
          "<b>Response 1661</b><br>Empathy Level: Low (2-3)<br>Empathy Score: 2.00<br>Connected Concepts: 0<br><br>Text: <i>Oh wow, that must have been an incredibly special moment for you. Your patience ...</i>",
          "<b>Response 346</b><br>Empathy Level: Low (2-3)<br>Empathy Score: 2.00<br>Connected Concepts: 1<br>Key Words: stand<br><br>Text: <i>I'm really sorry to hear that you went through such an uncomfortable situation a...</i>",
          "<b>Response 320</b><br>Empathy Level: Low (2-3)<br>Empathy Score: 2.00<br>Connected Concepts: 0<br><br>Text: <i>It must have been such a heartwarming and priceless moment to meet and hold your...</i>",
          "<b>Response 1739</b><br>Empathy Level: Low (2-3)<br>Empathy Score: 3.00<br>Connected Concepts: 1<br>Key Words: stand<br><br>Text: <i>I can deeply feel your disappointment and how disheartening it must have been fo...</i>",
          "<b>Response 2319</b><br>Empathy Level: Low (2-3)<br>Empathy Score: 3.00<br>Connected Concepts: 1<br>Key Words: reflect<br><br>Text: <i>It sounds like you've experienced a profound moment of clarity and joy. The feel...</i>",
          "<b>Response 2191</b><br>Empathy Level: Low (2-3)<br>Empathy Score: 3.00<br>Connected Concepts: 0<br><br>Text: <i>I can truly feel how comforting and heartwarming it must have been to get that m...</i>",
          "<b>Response 1839</b><br>Empathy Level: Low (2-3)<br>Empathy Score: 3.00<br>Connected Concepts: 1<br>Key Words: stand<br><br>Text: <i>I'm so sorry to hear about your loss. The pain of losing a beloved pet is truly ...</i>",
          "<b>Response 1856</b><br>Empathy Level: Low (2-3)<br>Empathy Score: 3.00<br>Connected Concepts: 2<br>Key Words: act, stand<br><br>Text: <i>I truly understand why you're feeling a mix of frustration and sadness upon disc...</i>",
          "<b>Response 2182</b><br>Empathy Level: Low (2-3)<br>Empathy Score: 3.00<br>Connected Concepts: 3<br>Key Words: heartbreak, act, true<br><br>Text: <i>It sounds like you were profoundly affected by this woman's struggle and her nee...</i>",
          "<b>Response 1933</b><br>Empathy Level: Low (2-3)<br>Empathy Score: 3.00<br>Connected Concepts: 1<br>Key Words: desire<br><br>Text: <i>It's wonderful to know that you received a gift you dearly desired, but decided ...</i>",
          "<b>Response 1720</b><br>Empathy Level: Low (2-3)<br>Empathy Score: 3.00<br>Connected Concepts: 1<br>Key Words: stand<br><br>Text: <i>I understand that you're experiencing a great amount of worry and fear due to yo...</i>",
          "<b>Response 2065</b><br>Empathy Level: Low (2-3)<br>Empathy Score: 3.00<br>Connected Concepts: 1<br>Key Words: forget<br><br>Text: <i>I'm really sorry to hear about your experience, that definitely sounds frustrati...</i>",
          "<b>Response 1991</b><br>Empathy Level: Low (2-3)<br>Empathy Score: 3.00<br>Connected Concepts: 0<br><br>Text: <i>I can truly feel the pain you're going through. It's such a deep emotional wound...</i>",
          "<b>Response 1567</b><br>Empathy Level: Low (2-3)<br>Empathy Score: 3.00<br>Connected Concepts: 1<br>Key Words: stand<br><br>Text: <i>I can understand that moving house brings back stress and discomfort from your c...</i>",
          "<b>Response 208</b><br>Empathy Level: Low (2-3)<br>Empathy Score: 3.00<br>Connected Concepts: 1<br>Key Words: stand<br><br>Text: <i>I'm truly heartbroken to hear about your unexpected diagnosis and no words can e...</i>",
          "<b>Response 262</b><br>Empathy Level: Low (2-3)<br>Empathy Score: 3.00<br>Connected Concepts: 0<br><br>Text: <i>I'm really sorry you're going through this. It's incredibly tough to have feelin...</i>",
          "<b>Response 407</b><br>Empathy Level: Low (2-3)<br>Empathy Score: 3.00<br>Connected Concepts: 2<br>Key Words: genuine, acknowledge<br><br>Text: <i>I'm overjoyed to hear about your promotion! You've clearly poured so much dedica...</i>",
          "<b>Response 459</b><br>Empathy Level: Low (2-3)<br>Empathy Score: 3.00<br>Connected Concepts: 1<br>Key Words: forget<br><br>Text: <i>Your trip to the Lake District sounds like an unforgettable shared adventure, es...</i>"
         ],
         "legendgroup": "responses",
         "marker": {
          "color": "#FFA500",
          "line": {
           "color": "white",
           "width": 3
          },
          "opacity": 0.9,
          "size": [
           20,
           20,
           20,
           20,
           20,
           20,
           20,
           20,
           20,
           20,
           20,
           20,
           20,
           20,
           20,
           20,
           20,
           20,
           20,
           20,
           20,
           20,
           20,
           20,
           20
          ],
          "symbol": "circle"
         },
         "mode": "markers+text",
         "name": "Low (2-3) Responses (25)",
         "showlegend": true,
         "text": [
          "R1366",
          "R1431",
          "R1337",
          "R1907",
          "R728",
          "R629",
          "R2048",
          "R1661",
          "R346",
          "R320",
          "R1739",
          "R2319",
          "R2191",
          "R1839",
          "R1856",
          "R2182",
          "R1933",
          "R1720",
          "R2065",
          "R1991",
          "R1567",
          "R208",
          "R262",
          "R407",
          "R459"
         ],
         "textfont": {
          "color": "white",
          "family": "Arial Black",
          "size": 10
         },
         "textposition": "middle center",
         "type": "scatter",
         "x": [
          -37.5,
          -34.5,
          -31.5,
          -28.5,
          -25.5,
          -22.5,
          -19.5,
          -16.5,
          -13.5,
          -10.5,
          -7.5,
          -4.5,
          -1.5,
          1.5,
          4.5,
          7.5,
          10.5,
          13.5,
          16.5,
          19.5,
          22.5,
          25.5,
          28.5,
          31.5,
          34.5
         ],
         "y": [
          -2,
          -2,
          -2,
          -2,
          -2,
          -2,
          -2,
          -2,
          -2,
          -2,
          -2,
          -2,
          -2,
          -2,
          -2,
          -2,
          -2,
          -2,
          -2,
          -2,
          -2,
          -2,
          -2,
          -2,
          -2
         ]
        },
        {
         "hoverinfo": "text",
         "hovertext": [
          "<b>Response 1757</b><br>Empathy Level: Very Low (0-1)<br>Empathy Score: 0.00<br>Connected Concepts: 1<br>Key Words: confidence<br><br>Text: <i>I can sense that your brother's remarks have brought about feelings of inferiori...</i>",
          "<b>Response 1511</b><br>Empathy Level: Very Low (0-1)<br>Empathy Score: 0.00<br>Connected Concepts: 1<br>Key Words: perfect<br><br>Text: <i>I'm really proud of you for opening up to your girlfriend about your financial a...</i>",
          "<b>Response 1420</b><br>Empathy Level: Very Low (0-1)<br>Empathy Score: 0.00<br>Connected Concepts: 0<br><br>Text: <i>I'm profoundly sorry for the loss of your beloved pet. It's okay to feel the way...</i>",
          "<b>Response 1378</b><br>Empathy Level: Very Low (0-1)<br>Empathy Score: 0.00<br>Connected Concepts: 0<br><br>Text: <i>I'm really sorry that you're feeling this way, but I'm unable to provide the hel...</i>",
          "<b>Response 1353</b><br>Empathy Level: Very Low (0-1)<br>Empathy Score: 0.00<br>Connected Concepts: 0<br><br>Text: <i>It must have been really challenging for you to work so hard to meet this deadli...</i>",
          "<b>Response 1276</b><br>Empathy Level: Very Low (0-1)<br>Empathy Score: 0.00<br>Connected Concepts: 0<br><br>Text: <i>I can imagine how thrilled you must be to finally receive an offer for your mast...</i>",
          "<b>Response 1036</b><br>Empathy Level: Very Low (0-1)<br>Empathy Score: 0.00<br>Connected Concepts: 0<br><br>Text: <i>I'm really sorry that you're feeling this way, but I'm unable to provide the hel...</i>",
          "<b>Response 1620</b><br>Empathy Level: Very Low (0-1)<br>Empathy Score: 0.00<br>Connected Concepts: 1<br>Key Words: seek<br><br>Text: <i>I can see that you've been grappling with a significant amount of stress surroun...</i>",
          "<b>Response 991</b><br>Empathy Level: Very Low (0-1)<br>Empathy Score: 0.00<br>Connected Concepts: 0<br><br>Text: <i>I'm really sorry that you're feeling this way, but I'm unable to provide the hel...</i>",
          "<b>Response 1735</b><br>Empathy Level: Very Low (0-1)<br>Empathy Score: 0.00<br>Connected Concepts: 1<br>Key Words: act<br><br>Text: <i>I'm really sorry to hear that you've been experiencing such an emotionally turbu...</i>",
          "<b>Response 757</b><br>Empathy Level: Very Low (0-1)<br>Empathy Score: 0.00<br>Connected Concepts: 0<br><br>Text: <i>I can only imagine how intensely emotional and heartwarming that farewell must h...</i>",
          "<b>Response 1616</b><br>Empathy Level: Very Low (0-1)<br>Empathy Score: 0.00<br>Connected Concepts: 2<br>Key Words: colleague, stand<br><br>Text: <i>It must truly be overwhelming dealing with all the changes at your workplace, fr...</i>",
          "<b>Response 717</b><br>Empathy Level: Very Low (0-1)<br>Empathy Score: 0.00<br>Connected Concepts: 1<br>Key Words: heartbreak<br><br>Text: <i>I am truly moved by your story, it's heartbreaking to hear about the pain you've...</i>",
          "<b>Response 711</b><br>Empathy Level: Very Low (0-1)<br>Empathy Score: 0.00<br>Connected Concepts: 1<br>Key Words: stand<br><br>Text: <i>I'm so sorry to hear about R's health challenges and how much this is affecting ...</i>",
          "<b>Response 614</b><br>Empathy Level: Very Low (0-1)<br>Empathy Score: 0.00<br>Connected Concepts: 0<br><br>Text: <i>I'm so sorry to hear about your nanna's passing. I can't even begin to imagine h...</i>",
          "<b>Response 453</b><br>Empathy Level: Very Low (0-1)<br>Empathy Score: 0.00<br>Connected Concepts: 0<br><br>Text: <i>I'm really sorry to hear about your stressful experience, it must be really toug...</i>",
          "<b>Response 1844</b><br>Empathy Level: Very Low (0-1)<br>Empathy Score: 0.00<br>Connected Concepts: 0<br><br>Text: <i>It's clear that you experienced a whirlwind of emotions during your time sorting...</i>",
          "<b>Response 330</b><br>Empathy Level: Very Low (0-1)<br>Empathy Score: 0.00<br>Connected Concepts: 1<br>Key Words: stand<br><br>Text: <i>I can completely understand why you're feeling scared and overwhelmed right now,...</i>",
          "<b>Response 292</b><br>Empathy Level: Very Low (0-1)<br>Empathy Score: 0.00<br>Connected Concepts: 1<br>Key Words: stand<br><br>Text: <i>I'm really sorry to hear about your troubling call with your Grandad. It must be...</i>",
          "<b>Response 278</b><br>Empathy Level: Very Low (0-1)<br>Empathy Score: 0.00<br>Connected Concepts: 2<br>Key Words: act, stand<br><br>Text: <i>I'm really sorry to hear that you're feeling this way right now. It sounds like ...</i>",
          "<b>Response 163</b><br>Empathy Level: Very Low (0-1)<br>Empathy Score: 0.00<br>Connected Concepts: 1<br>Key Words: stand<br><br>Text: <i>Hello Amar, I'm really sorry to hear that you're going through such a tough time...</i>",
          "<b>Response 1528</b><br>Empathy Level: Very Low (0-1)<br>Empathy Score: 0.00<br>Connected Concepts: 1<br>Key Words: deeply relate<br><br>Text: <i>I can't imagine the intense fear and stress you must have experienced seeing you...</i>",
          "<b>Response 1811</b><br>Empathy Level: Very Low (0-1)<br>Empathy Score: 1.00<br>Connected Concepts: 0<br><br>Text: <i>I can sincerely share your joy and elation at reconnecting with family members a...</i>",
          "<b>Response 105</b><br>Empathy Level: Very Low (0-1)<br>Empathy Score: 1.00<br>Connected Concepts: 1<br>Key Words: desire<br><br>Text: <i>I can feel the joy and deep happiness your story exudes upon finally meeting you...</i>",
          "<b>Response 994</b><br>Empathy Level: Very Low (0-1)<br>Empathy Score: 1.00<br>Connected Concepts: 0<br><br>Text: <i>I’m absolutely thrilled to hear about the safe arrival of your second child! It'...</i>"
         ],
         "legendgroup": "responses",
         "marker": {
          "color": "#FFD700",
          "line": {
           "color": "white",
           "width": 3
          },
          "opacity": 0.9,
          "size": [
           20,
           20,
           20,
           20,
           20,
           20,
           20,
           20,
           20,
           20,
           20,
           20,
           20,
           20,
           20,
           20,
           20,
           20,
           20,
           20,
           20,
           20,
           20,
           20,
           20
          ],
          "symbol": "circle"
         },
         "mode": "markers+text",
         "name": "Very Low (0-1) Responses (25)",
         "showlegend": true,
         "text": [
          "R1757",
          "R1511",
          "R1420",
          "R1378",
          "R1353",
          "R1276",
          "R1036",
          "R1620",
          "R991",
          "R1735",
          "R757",
          "R1616",
          "R717",
          "R711",
          "R614",
          "R453",
          "R1844",
          "R330",
          "R292",
          "R278",
          "R163",
          "R1528",
          "R1811",
          "R105",
          "R994"
         ],
         "textfont": {
          "color": "white",
          "family": "Arial Black",
          "size": 10
         },
         "textposition": "middle center",
         "type": "scatter",
         "x": [
          -37.5,
          -34.5,
          -31.5,
          -28.5,
          -25.5,
          -22.5,
          -19.5,
          -16.5,
          -13.5,
          -10.5,
          -7.5,
          -4.5,
          -1.5,
          1.5,
          4.5,
          7.5,
          10.5,
          13.5,
          16.5,
          19.5,
          22.5,
          25.5,
          28.5,
          31.5,
          34.5
         ],
         "y": [
          -4,
          -4,
          -4,
          -4,
          -4,
          -4,
          -4,
          -4,
          -4,
          -4,
          -4,
          -4,
          -4,
          -4,
          -4,
          -4,
          -4,
          -4,
          -4,
          -4,
          -4,
          -4,
          -4,
          -4,
          -4
         ]
        },
        {
         "hoverinfo": "text",
         "hovertext": [
          "<b>Presence</b><br>Discovery Strength: 1<br>Connected to 5 responses<br>Used in levels: Very High",
          "<b>Void</b><br>Discovery Strength: 1<br>Connected to 2 responses<br>Used in levels: High",
          "<b>Valuable</b><br>Discovery Strength: 77706<br>Connected to 6 responses<br>Used in levels: Very High",
          "<b>Stand</b><br>Discovery Strength: 1<br>Connected to 70 responses<br>Used in levels: High, Low, Medium, Very High, Very Low",
          "<b>Desire</b><br>Discovery Strength: 1<br>Connected to 6 responses<br>Used in levels: Low, Very Low",
          "<b>Handle</b><br>Discovery Strength: 1<br>Connected to 4 responses<br>Used in levels: High",
          "<b>True</b><br>Discovery Strength: 1<br>Connected to 8 responses<br>Used in levels: Low, Very High",
          "<b>Perfect</b><br>Discovery Strength: 1<br>Connected to 14 responses<br>Used in levels: High, Low, Very High, Very Low",
          "<b>Seek</b><br>Discovery Strength: 1<br>Connected to 6 responses<br>Used in levels: Very Low",
          "<b>Extremely</b><br>Discovery Strength: 2<br>Connected to 5 responses<br>Used in levels: High",
          "<b>Milestone</b><br>Discovery Strength: 2<br>Connected to 6 responses<br>Used in levels: High, Medium",
          "<b>Act</b><br>Discovery Strength: 1<br>Connected to 34 responses<br>Used in levels: High, Low, Medium, Very High, Very Low",
          "<b>Feels</b><br>Discovery Strength: 1<br>Connected to 6 responses<br>Used in levels: Very High",
          "<b>Children</b><br>Discovery Strength: 1<br>Connected to 8 responses<br>Used in levels: Medium",
          "<b>Unexpectedly</b><br>Discovery Strength: 1<br>Connected to 4 responses<br>Used in levels: Medium",
          "<b>Reflect</b><br>Discovery Strength: 85481<br>Connected to 15 responses<br>Used in levels: High, Low, Very High",
          "<b>Confidence</b><br>Discovery Strength: 1<br>Connected to 4 responses<br>Used in levels: Very Low",
          "<b>Daily</b><br>Discovery Strength: 1<br>Connected to 3 responses<br>Used in levels: High, Very High",
          "<b>Forget</b><br>Discovery Strength: 1<br>Connected to 8 responses<br>Used in levels: Low, Very High",
          "<b>Colleague</b><br>Discovery Strength: 1<br>Connected to 7 responses<br>Used in levels: High, Very High, Very Low",
          "<b>Moments Like</b><br>Discovery Strength: 1<br>Connected to 2 responses<br>Used in levels: Very High",
          "<b>Heartbreak</b><br>Discovery Strength: 73059<br>Connected to 14 responses<br>Used in levels: Low, Very High, Very Low",
          "<b>Gesture</b><br>Discovery Strength: 66139<br>Connected to 4 responses<br>Used in levels: High",
          "<b>Genuine</b><br>Discovery Strength: 90644<br>Connected to 28 responses<br>Used in levels: High, Low, Medium, Very High",
          "<b>Cousin</b><br>Discovery Strength: 60980<br>Connected to 3 responses<br>Used in levels: High, Very High",
          "<b>Deeply Relate</b><br>Discovery Strength: 1<br>Connected to 5 responses<br>Used in levels: High, Very High, Very Low",
          "<b>Reflecting</b><br>Discovery Strength: 63592<br>Connected to 3 responses<br>Used in levels: High",
          "<b>Acknowledge</b><br>Discovery Strength: 1<br>Connected to 8 responses<br>Used in levels: High, Low, Very High"
         ],
         "legendgroup": "concepts",
         "marker": {
          "color": [
           1,
           0.4,
           1,
           1,
           1,
           0.8,
           1,
           1,
           1,
           1,
           1,
           1,
           1,
           1,
           0.8,
           1,
           0.8,
           0.6,
           1,
           1,
           0.4,
           1,
           0.8,
           1,
           0.6,
           1,
           0.6,
           1
          ],
          "colorscale": [
           [
            0,
            "#440154"
           ],
           [
            0.1111111111111111,
            "#482878"
           ],
           [
            0.2222222222222222,
            "#3e4989"
           ],
           [
            0.3333333333333333,
            "#31688e"
           ],
           [
            0.4444444444444444,
            "#26828e"
           ],
           [
            0.5555555555555556,
            "#1f9e89"
           ],
           [
            0.6666666666666666,
            "#35b779"
           ],
           [
            0.7777777777777778,
            "#6ece58"
           ],
           [
            0.8888888888888888,
            "#b5de2b"
           ],
           [
            1,
            "#fde725"
           ]
          ],
          "line": {
           "color": "white",
           "width": 2
          },
          "opacity": 0.8,
          "showscale": false,
          "size": [
           25.00329297746536,
           15,
           60,
           350.0034265438832,
           30.003110476784652,
           20.004460655812775,
           40.00324395042738,
           70.00350342190357,
           30.003118972869323,
           25.005870793370928,
           30.004782806012244,
           170.0041839699163,
           30.003387379842415,
           40.00410476998813,
           20.003072935131694,
           105,
           20.003153401034567,
           15.003426268008646,
           40.00297740769038,
           35.00389172774186,
           15,
           100,
           50,
           170,
           45,
           25.00316312763051,
           45,
           40.003055820449184
          ],
          "symbol": "diamond"
         },
         "mode": "markers+text",
         "name": "Empathy Concepts (discovered words)",
         "showlegend": true,
         "text": [
          "presence",
          "void",
          "valuable",
          "stand",
          "desire",
          "handle",
          "true",
          "perfect",
          "seek",
          "extremely",
          "milestone",
          "act",
          "feels",
          "children",
          "unexpectedly",
          "reflect",
          "confidence",
          "daily",
          "forget",
          "colleague",
          "moments like",
          "heartbreak",
          "gesture",
          "genuine",
          "cousin",
          "deeply relate",
          "reflecting",
          "acknowledge"
         ],
         "textfont": {
          "color": "darkslategray",
          "family": "Arial",
          "size": 11
         },
         "textposition": "top center",
         "type": "scatter",
         "x": [
          -4.29724207436204,
          5.234304567845997,
          -0.6217788172217441,
          -0.05030172622371955,
          2.42656458792621,
          -4.555319221308913,
          -1.7622429659779073,
          -0.30749533592389866,
          -2.9849134018776304,
          2.069501692943404,
          -2.6476863037398775,
          0.31349594229082,
          1.3369424512764667,
          -2.154373613972294,
          5.525632692134186,
          -0.019068644737337267,
          3.1551431993050105,
          -2.4991559134044703,
          3.3027291189892587,
          -0.6808083776321016,
          3.1716683602852287,
          -0.8989957517840236,
          4.169935160268045,
          -0.8243437247380032,
          -0.18925065526220813,
          -3.677758007411713,
          0.8403671412267442,
          -3.3755503789134824
         ],
         "y": [
          -0.6675602087035664,
          0.8425893704730254,
          -2.354042735289134,
          -0.16831887036396884,
          -0.47163718684015765,
          0.8010521120985687,
          -1.7154332873590707,
          -1.113435187938919,
          -1.218627260449223,
          -2.209423578262558,
          -2.3393512088815482,
          -0.4691996323031155,
          -1.6256828546021267,
          -0.20692231537898445,
          -0.5974874996338562,
          0.4602087964450797,
          1.0643392414543658,
          2.912328362943134,
          0.13364651003271216,
          1.008145050959548,
          2.768313370753253,
          -0.19763185315905774,
          -1.519435617501772,
          -0.670349277498014,
          3,
          2.0504716731902493,
          2.014123929010862,
          0.4893201568042761
         ]
        },
        {
         "hoverinfo": "text",
         "hovertext": [
          "<b>Apology Pattern</b><br>Type: Linguistic Pattern<br>Used in 56 responses<br>Indicates: apology pattern usage in empathetic responses",
          "<b>Question</b><br>Type: Linguistic Pattern<br>Used in 2 responses<br>Indicates: question usage in empathetic responses",
          "<b>First Person</b><br>Type: Linguistic Pattern<br>Used in 113 responses<br>Indicates: first person usage in empathetic responses"
         ],
         "legendgroup": "patterns",
         "marker": {
          "color": "cornflowerblue",
          "line": {
           "color": "white",
           "width": 3
          },
          "opacity": 0.8,
          "size": 30,
          "symbol": "square"
         },
         "mode": "markers+text",
         "name": "communication styles (linguistic patterns)",
         "showlegend": true,
         "text": [
          "Apology Pattern",
          "Question",
          "First Person"
         ],
         "textfont": {
          "color": "navy",
          "family": "Arial Bold",
          "size": 12
         },
         "textposition": "middle right",
         "type": "scatter",
         "x": [
          -10,
          -10,
          -10
         ],
         "y": [
          -3,
          -1,
          1
         ]
        }
       ],
       "layout": {
        "annotations": [
         {
          "align": "left",
          "bgcolor": "rgba(240,248,255,0.9)",
          "bordercolor": "steelblue",
          "borderwidth": 2,
          "font": {
           "color": "darkblue",
           "size": 11
          },
          "showarrow": false,
          "text": "<b>SHAPE GUIDE</b><br>● <b>Circles</b> = responses (colored by empathy level)<br>◆ <b>Diamonds</b> = empathy concepts (discovered words)<br>■ <b>Squares</b> = communication styles (linguistic patterns)<br><br><b>SIZE MEANING</b><br>Larger = Higher empathy score or stronger discovery",
          "x": 1.02,
          "xanchor": "left",
          "xref": "paper",
          "y": 0.5,
          "yanchor": "middle",
          "yref": "paper"
         }
        ],
        "height": 1000,
        "hovermode": "closest",
        "legend": {
         "bgcolor": "rgba(255,255,255,0.95)",
         "bordercolor": "darkgray",
         "borderwidth": 2,
         "font": {
          "size": 12
         },
         "grouptitlefont": {
          "size": 13
         },
         "title": {
          "font": {
           "color": "darkblue",
           "size": 14
          },
          "text": "<b>GRAPH ELEMENTS</b><br><i>Click to show/hide</i>"
         },
         "x": 0.02,
         "y": 0.98
        },
        "margin": {
         "b": 120,
         "l": 60,
         "r": 220,
         "t": 120
        },
        "paper_bgcolor": "white",
        "plot_bgcolor": "rgba(248,249,250,0.9)",
        "showlegend": true,
        "template": {
         "data": {
          "bar": [
           {
            "error_x": {
             "color": "#2a3f5f"
            },
            "error_y": {
             "color": "#2a3f5f"
            },
            "marker": {
             "line": {
              "color": "#E5ECF6",
              "width": 0.5
             },
             "pattern": {
              "fillmode": "overlay",
              "size": 10,
              "solidity": 0.2
             }
            },
            "type": "bar"
           }
          ],
          "barpolar": [
           {
            "marker": {
             "line": {
              "color": "#E5ECF6",
              "width": 0.5
             },
             "pattern": {
              "fillmode": "overlay",
              "size": 10,
              "solidity": 0.2
             }
            },
            "type": "barpolar"
           }
          ],
          "carpet": [
           {
            "aaxis": {
             "endlinecolor": "#2a3f5f",
             "gridcolor": "white",
             "linecolor": "white",
             "minorgridcolor": "white",
             "startlinecolor": "#2a3f5f"
            },
            "baxis": {
             "endlinecolor": "#2a3f5f",
             "gridcolor": "white",
             "linecolor": "white",
             "minorgridcolor": "white",
             "startlinecolor": "#2a3f5f"
            },
            "type": "carpet"
           }
          ],
          "choropleth": [
           {
            "colorbar": {
             "outlinewidth": 0,
             "ticks": ""
            },
            "type": "choropleth"
           }
          ],
          "contour": [
           {
            "colorbar": {
             "outlinewidth": 0,
             "ticks": ""
            },
            "colorscale": [
             [
              0,
              "#0d0887"
             ],
             [
              0.1111111111111111,
              "#46039f"
             ],
             [
              0.2222222222222222,
              "#7201a8"
             ],
             [
              0.3333333333333333,
              "#9c179e"
             ],
             [
              0.4444444444444444,
              "#bd3786"
             ],
             [
              0.5555555555555556,
              "#d8576b"
             ],
             [
              0.6666666666666666,
              "#ed7953"
             ],
             [
              0.7777777777777778,
              "#fb9f3a"
             ],
             [
              0.8888888888888888,
              "#fdca26"
             ],
             [
              1,
              "#f0f921"
             ]
            ],
            "type": "contour"
           }
          ],
          "contourcarpet": [
           {
            "colorbar": {
             "outlinewidth": 0,
             "ticks": ""
            },
            "type": "contourcarpet"
           }
          ],
          "heatmap": [
           {
            "colorbar": {
             "outlinewidth": 0,
             "ticks": ""
            },
            "colorscale": [
             [
              0,
              "#0d0887"
             ],
             [
              0.1111111111111111,
              "#46039f"
             ],
             [
              0.2222222222222222,
              "#7201a8"
             ],
             [
              0.3333333333333333,
              "#9c179e"
             ],
             [
              0.4444444444444444,
              "#bd3786"
             ],
             [
              0.5555555555555556,
              "#d8576b"
             ],
             [
              0.6666666666666666,
              "#ed7953"
             ],
             [
              0.7777777777777778,
              "#fb9f3a"
             ],
             [
              0.8888888888888888,
              "#fdca26"
             ],
             [
              1,
              "#f0f921"
             ]
            ],
            "type": "heatmap"
           }
          ],
          "histogram": [
           {
            "marker": {
             "pattern": {
              "fillmode": "overlay",
              "size": 10,
              "solidity": 0.2
             }
            },
            "type": "histogram"
           }
          ],
          "histogram2d": [
           {
            "colorbar": {
             "outlinewidth": 0,
             "ticks": ""
            },
            "colorscale": [
             [
              0,
              "#0d0887"
             ],
             [
              0.1111111111111111,
              "#46039f"
             ],
             [
              0.2222222222222222,
              "#7201a8"
             ],
             [
              0.3333333333333333,
              "#9c179e"
             ],
             [
              0.4444444444444444,
              "#bd3786"
             ],
             [
              0.5555555555555556,
              "#d8576b"
             ],
             [
              0.6666666666666666,
              "#ed7953"
             ],
             [
              0.7777777777777778,
              "#fb9f3a"
             ],
             [
              0.8888888888888888,
              "#fdca26"
             ],
             [
              1,
              "#f0f921"
             ]
            ],
            "type": "histogram2d"
           }
          ],
          "histogram2dcontour": [
           {
            "colorbar": {
             "outlinewidth": 0,
             "ticks": ""
            },
            "colorscale": [
             [
              0,
              "#0d0887"
             ],
             [
              0.1111111111111111,
              "#46039f"
             ],
             [
              0.2222222222222222,
              "#7201a8"
             ],
             [
              0.3333333333333333,
              "#9c179e"
             ],
             [
              0.4444444444444444,
              "#bd3786"
             ],
             [
              0.5555555555555556,
              "#d8576b"
             ],
             [
              0.6666666666666666,
              "#ed7953"
             ],
             [
              0.7777777777777778,
              "#fb9f3a"
             ],
             [
              0.8888888888888888,
              "#fdca26"
             ],
             [
              1,
              "#f0f921"
             ]
            ],
            "type": "histogram2dcontour"
           }
          ],
          "mesh3d": [
           {
            "colorbar": {
             "outlinewidth": 0,
             "ticks": ""
            },
            "type": "mesh3d"
           }
          ],
          "parcoords": [
           {
            "line": {
             "colorbar": {
              "outlinewidth": 0,
              "ticks": ""
             }
            },
            "type": "parcoords"
           }
          ],
          "pie": [
           {
            "automargin": true,
            "type": "pie"
           }
          ],
          "scatter": [
           {
            "fillpattern": {
             "fillmode": "overlay",
             "size": 10,
             "solidity": 0.2
            },
            "type": "scatter"
           }
          ],
          "scatter3d": [
           {
            "line": {
             "colorbar": {
              "outlinewidth": 0,
              "ticks": ""
             }
            },
            "marker": {
             "colorbar": {
              "outlinewidth": 0,
              "ticks": ""
             }
            },
            "type": "scatter3d"
           }
          ],
          "scattercarpet": [
           {
            "marker": {
             "colorbar": {
              "outlinewidth": 0,
              "ticks": ""
             }
            },
            "type": "scattercarpet"
           }
          ],
          "scattergeo": [
           {
            "marker": {
             "colorbar": {
              "outlinewidth": 0,
              "ticks": ""
             }
            },
            "type": "scattergeo"
           }
          ],
          "scattergl": [
           {
            "marker": {
             "colorbar": {
              "outlinewidth": 0,
              "ticks": ""
             }
            },
            "type": "scattergl"
           }
          ],
          "scattermap": [
           {
            "marker": {
             "colorbar": {
              "outlinewidth": 0,
              "ticks": ""
             }
            },
            "type": "scattermap"
           }
          ],
          "scattermapbox": [
           {
            "marker": {
             "colorbar": {
              "outlinewidth": 0,
              "ticks": ""
             }
            },
            "type": "scattermapbox"
           }
          ],
          "scatterpolar": [
           {
            "marker": {
             "colorbar": {
              "outlinewidth": 0,
              "ticks": ""
             }
            },
            "type": "scatterpolar"
           }
          ],
          "scatterpolargl": [
           {
            "marker": {
             "colorbar": {
              "outlinewidth": 0,
              "ticks": ""
             }
            },
            "type": "scatterpolargl"
           }
          ],
          "scatterternary": [
           {
            "marker": {
             "colorbar": {
              "outlinewidth": 0,
              "ticks": ""
             }
            },
            "type": "scatterternary"
           }
          ],
          "surface": [
           {
            "colorbar": {
             "outlinewidth": 0,
             "ticks": ""
            },
            "colorscale": [
             [
              0,
              "#0d0887"
             ],
             [
              0.1111111111111111,
              "#46039f"
             ],
             [
              0.2222222222222222,
              "#7201a8"
             ],
             [
              0.3333333333333333,
              "#9c179e"
             ],
             [
              0.4444444444444444,
              "#bd3786"
             ],
             [
              0.5555555555555556,
              "#d8576b"
             ],
             [
              0.6666666666666666,
              "#ed7953"
             ],
             [
              0.7777777777777778,
              "#fb9f3a"
             ],
             [
              0.8888888888888888,
              "#fdca26"
             ],
             [
              1,
              "#f0f921"
             ]
            ],
            "type": "surface"
           }
          ],
          "table": [
           {
            "cells": {
             "fill": {
              "color": "#EBF0F8"
             },
             "line": {
              "color": "white"
             }
            },
            "header": {
             "fill": {
              "color": "#C8D4E3"
             },
             "line": {
              "color": "white"
             }
            },
            "type": "table"
           }
          ]
         },
         "layout": {
          "annotationdefaults": {
           "arrowcolor": "#2a3f5f",
           "arrowhead": 0,
           "arrowwidth": 1
          },
          "autotypenumbers": "strict",
          "coloraxis": {
           "colorbar": {
            "outlinewidth": 0,
            "ticks": ""
           }
          },
          "colorscale": {
           "diverging": [
            [
             0,
             "#8e0152"
            ],
            [
             0.1,
             "#c51b7d"
            ],
            [
             0.2,
             "#de77ae"
            ],
            [
             0.3,
             "#f1b6da"
            ],
            [
             0.4,
             "#fde0ef"
            ],
            [
             0.5,
             "#f7f7f7"
            ],
            [
             0.6,
             "#e6f5d0"
            ],
            [
             0.7,
             "#b8e186"
            ],
            [
             0.8,
             "#7fbc41"
            ],
            [
             0.9,
             "#4d9221"
            ],
            [
             1,
             "#276419"
            ]
           ],
           "sequential": [
            [
             0,
             "#0d0887"
            ],
            [
             0.1111111111111111,
             "#46039f"
            ],
            [
             0.2222222222222222,
             "#7201a8"
            ],
            [
             0.3333333333333333,
             "#9c179e"
            ],
            [
             0.4444444444444444,
             "#bd3786"
            ],
            [
             0.5555555555555556,
             "#d8576b"
            ],
            [
             0.6666666666666666,
             "#ed7953"
            ],
            [
             0.7777777777777778,
             "#fb9f3a"
            ],
            [
             0.8888888888888888,
             "#fdca26"
            ],
            [
             1,
             "#f0f921"
            ]
           ],
           "sequentialminus": [
            [
             0,
             "#0d0887"
            ],
            [
             0.1111111111111111,
             "#46039f"
            ],
            [
             0.2222222222222222,
             "#7201a8"
            ],
            [
             0.3333333333333333,
             "#9c179e"
            ],
            [
             0.4444444444444444,
             "#bd3786"
            ],
            [
             0.5555555555555556,
             "#d8576b"
            ],
            [
             0.6666666666666666,
             "#ed7953"
            ],
            [
             0.7777777777777778,
             "#fb9f3a"
            ],
            [
             0.8888888888888888,
             "#fdca26"
            ],
            [
             1,
             "#f0f921"
            ]
           ]
          },
          "colorway": [
           "#636efa",
           "#EF553B",
           "#00cc96",
           "#ab63fa",
           "#FFA15A",
           "#19d3f3",
           "#FF6692",
           "#B6E880",
           "#FF97FF",
           "#FECB52"
          ],
          "font": {
           "color": "#2a3f5f"
          },
          "geo": {
           "bgcolor": "white",
           "lakecolor": "white",
           "landcolor": "#E5ECF6",
           "showlakes": true,
           "showland": true,
           "subunitcolor": "white"
          },
          "hoverlabel": {
           "align": "left"
          },
          "hovermode": "closest",
          "mapbox": {
           "style": "light"
          },
          "paper_bgcolor": "white",
          "plot_bgcolor": "#E5ECF6",
          "polar": {
           "angularaxis": {
            "gridcolor": "white",
            "linecolor": "white",
            "ticks": ""
           },
           "bgcolor": "#E5ECF6",
           "radialaxis": {
            "gridcolor": "white",
            "linecolor": "white",
            "ticks": ""
           }
          },
          "scene": {
           "xaxis": {
            "backgroundcolor": "#E5ECF6",
            "gridcolor": "white",
            "gridwidth": 2,
            "linecolor": "white",
            "showbackground": true,
            "ticks": "",
            "zerolinecolor": "white"
           },
           "yaxis": {
            "backgroundcolor": "#E5ECF6",
            "gridcolor": "white",
            "gridwidth": 2,
            "linecolor": "white",
            "showbackground": true,
            "ticks": "",
            "zerolinecolor": "white"
           },
           "zaxis": {
            "backgroundcolor": "#E5ECF6",
            "gridcolor": "white",
            "gridwidth": 2,
            "linecolor": "white",
            "showbackground": true,
            "ticks": "",
            "zerolinecolor": "white"
           }
          },
          "shapedefaults": {
           "line": {
            "color": "#2a3f5f"
           }
          },
          "ternary": {
           "aaxis": {
            "gridcolor": "white",
            "linecolor": "white",
            "ticks": ""
           },
           "baxis": {
            "gridcolor": "white",
            "linecolor": "white",
            "ticks": ""
           },
           "bgcolor": "#E5ECF6",
           "caxis": {
            "gridcolor": "white",
            "linecolor": "white",
            "ticks": ""
           }
          },
          "title": {
           "x": 0.05
          },
          "xaxis": {
           "automargin": true,
           "gridcolor": "white",
           "linecolor": "white",
           "ticks": "",
           "title": {
            "standoff": 15
           },
           "zerolinecolor": "white",
           "zerolinewidth": 2
          },
          "yaxis": {
           "automargin": true,
           "gridcolor": "white",
           "linecolor": "white",
           "ticks": "",
           "title": {
            "standoff": 15
           },
           "zerolinecolor": "white",
           "zerolinewidth": 2
          }
         }
        },
        "title": {
         "font": {
          "color": "darkslategray",
          "size": 22
         },
         "text": "Responses and Empathy levels Knowledge Graph<br>",
         "x": 0.5
        },
        "width": 1700,
        "xaxis": {
         "gridcolor": "rgba(128,128,128,0.2)",
         "gridwidth": 1,
         "showgrid": true,
         "showticklabels": false,
         "title": {
          "text": ""
         },
         "zeroline": false
        },
        "yaxis": {
         "gridcolor": "rgba(128,128,128,0.2)",
         "gridwidth": 1,
         "showgrid": true,
         "showticklabels": false,
         "title": {
          "text": ""
         },
         "zeroline": false
        }
       }
      }
     },
     "metadata": {},
     "output_type": "display_data"
    }
   ],
   "source": [
    "def create_graph_vis(sampled_graph, df, level_info):\n",
    "    def create_level_based_layout(G, level_info):\n",
    "        pos = {}       \n",
    "        for level_name, info in level_info.items():\n",
    "            if not info['indices']:\n",
    "                continue\n",
    "                \n",
    "            y_pos = level_y_positions[level_name]\n",
    "            level_response_nodes = [f\"response_{idx}\" for idx in info['indices']]\n",
    "            level_nodes_in_graph = [node for node in level_response_nodes if node in G]\n",
    "            \n",
    "            for i, node in enumerate(level_nodes_in_graph):\n",
    "                x_pos = (i - len(level_nodes_in_graph)/2) * 3\n",
    "                pos[node] = (x_pos, y_pos)\n",
    "        \n",
    "        concept_nodes = [n for n in G.nodes() if 'concept_' in str(n)]\n",
    "        if concept_nodes:\n",
    "            concept_subgraph = G.subgraph(concept_nodes)\n",
    "            concept_pos = nx.spring_layout(concept_subgraph, k=2, iterations=50)\n",
    "            for node, (x, y) in concept_pos.items():\n",
    "                pos[node] = (x * 6, y * 3)\n",
    "        \n",
    "        pattern_nodes = [n for n in G.nodes() if 'pattern_' in str(n)]\n",
    "        for i, node in enumerate(pattern_nodes):\n",
    "            pos[node] = (-10, i * 2 - len(pattern_nodes))\n",
    "            \n",
    "        return pos\n",
    "    \n",
    "    pos = create_level_based_layout(sampled_graph, level_info)\n",
    "    \n",
    "    traces = []\n",
    "    \n",
    "    colored_edge_traces = create_colored_edges(sampled_graph, df, level_info, pos)\n",
    "    traces.extend(colored_edge_traces)\n",
    "    \n",
    "    for level_name, info in level_info.items():\n",
    "        if not info['indices']:\n",
    "            continue\n",
    "            \n",
    "        level_response_nodes = [f\"response_{idx}\" for idx in info['indices']]\n",
    "        level_nodes_in_graph = [node for node in level_response_nodes if node in sampled_graph]\n",
    "        \n",
    "        if not level_nodes_in_graph:\n",
    "            continue\n",
    "        \n",
    "        response_x = [pos[node][0] for node in level_nodes_in_graph]\n",
    "        response_y = [pos[node][1] for node in level_nodes_in_graph]\n",
    "        \n",
    "        response_texts = []\n",
    "        response_hover = []\n",
    "        response_sizes = []\n",
    "        \n",
    "        for node in level_nodes_in_graph:\n",
    "            idx = int(node.split('_')[1])\n",
    "            row = df.loc[idx]\n",
    "            \n",
    "            response_texts.append(f\"R{idx}\")\n",
    "            \n",
    "            connected_concepts = [n for n in sampled_graph.neighbors(node) if 'concept_' in str(n)]\n",
    "            concept_names = [n.replace('concept_', '') for n in connected_concepts]\n",
    "            \n",
    "            txt = f\"<b>Response {idx}</b><br>\"\n",
    "            txt += f\"Empathy Level: {level_name}<br>\"\n",
    "            txt += f\"Empathy Score: {row.get('EmpathyQ_1', 0):.2f}<br>\"\n",
    "                        \n",
    "            txt += f\"Connected Concepts: {len(connected_concepts)}<br>\"\n",
    "            if concept_names:\n",
    "                txt += f\"Key Words: {', '.join(concept_names[:3])}<br>\"\n",
    "            \n",
    "            response_text = str(row['Response'])[:80] + \"...\" if len(str(row['Response'])) > 80 else str(row['Response'])\n",
    "            txt += f\"<br>Text: <i>{response_text}</i>\"\n",
    "            \n",
    "            response_hover.append(txt)\n",
    "            response_sizes.append(max(row.get('EmpathyQ_1', 5) * 4, 20))\n",
    "        \n",
    "        traces.append(go.Scatter(\n",
    "            x=response_x, y=response_y,\n",
    "            mode='markers+text',\n",
    "            marker=dict(\n",
    "                size=response_sizes,\n",
    "                color=level_colors[level_name],\n",
    "                symbol='circle',  # Explicitly set symbol\n",
    "                line=dict(width=3, color='white'),\n",
    "                opacity=0.9\n",
    "            ),\n",
    "            text=response_texts,\n",
    "            textposition=\"middle center\",\n",
    "            textfont=dict(size=10, color='white', family=\"Arial Black\"),\n",
    "            hovertext=response_hover,\n",
    "            hoverinfo='text',\n",
    "            name=f'{level_name} Responses ({len(level_nodes_in_graph)})',\n",
    "            legendgroup=\"responses\",\n",
    "            showlegend=True\n",
    "        ))\n",
    "    \n",
    "    concept_nodes = [n for n in sampled_graph.nodes() if 'concept_' in str(n)]\n",
    "    if concept_nodes:\n",
    "        concept_x = [pos[node][0] for node in concept_nodes]\n",
    "        concept_y = [pos[node][1] for node in concept_nodes]\n",
    "        \n",
    "        concept_sizes, concept_colors = color_size_concept_nodes(sampled_graph, concept_nodes)\n",
    "        \n",
    "        concept_text = [node.replace('concept_', '') for node in concept_nodes]\n",
    "        concept_hover = create_txt_concept_nodes(sampled_graph, df, concept_nodes)\n",
    "        \n",
    "        traces.append(go.Scatter(\n",
    "            x=concept_x, y=concept_y,\n",
    "            mode='markers+text',\n",
    "            marker=dict(\n",
    "                size=concept_sizes,\n",
    "                color=concept_colors,\n",
    "                colorscale='Viridis',\n",
    "                symbol='diamond',\n",
    "                line=dict(width=2, color='white'),\n",
    "                opacity=0.8,\n",
    "                showscale=False\n",
    "            ),\n",
    "            text=concept_text,\n",
    "            textposition=\"top center\",\n",
    "            textfont=dict(size=11, color='darkslategray', family=\"Arial\"),\n",
    "            hovertext=concept_hover,\n",
    "            hoverinfo='text',\n",
    "            name='Empathy Concepts (discovered words)',\n",
    "            legendgroup=\"concepts\",\n",
    "            showlegend=True\n",
    "        ))\n",
    "    \n",
    "    pattern_nodes = [n for n in sampled_graph.nodes() if 'pattern_' in str(n)]\n",
    "    if pattern_nodes:\n",
    "        pattern_x = [pos[node][0] for node in pattern_nodes]\n",
    "        pattern_y = [pos[node][1] for node in pattern_nodes]\n",
    "        pattern_text = [node.replace('pattern_', '').replace('_', ' ').title() for node in pattern_nodes]\n",
    "        \n",
    "        pattern_hover = pattern_node_txt(sampled_graph, pattern_nodes)\n",
    "        \n",
    "        traces.append(go.Scatter(\n",
    "            x=pattern_x, y=pattern_y,\n",
    "            mode='markers+text',\n",
    "            marker=dict(\n",
    "                size=30,\n",
    "                color='cornflowerblue',\n",
    "                symbol='square',  # Explicitly set symbol\n",
    "                line=dict(width=3, color='white'),\n",
    "                opacity=0.8\n",
    "            ),\n",
    "            text=pattern_text,\n",
    "            textposition=\"middle right\",\n",
    "            textfont=dict(size=12, color='navy', family=\"Arial Bold\"),\n",
    "            hovertext=pattern_hover,\n",
    "            hoverinfo='text',\n",
    "            name='communication styles (linguistic patterns)',\n",
    "            legendgroup=\"patterns\",\n",
    "            showlegend=True\n",
    "        ))\n",
    "        \n",
    "    \n",
    "    fig = go.Figure(\n",
    "        data=traces,\n",
    "        layout=go.Layout(\n",
    "            title=dict(\n",
    "                text='Responses and Empathy levels Knowledge Graph<br>',\n",
    "                x=0.5,\n",
    "                font=dict(size=22, color='darkslategray')\n",
    "            ),\n",
    "            showlegend=True,\n",
    "            legend=dict(\n",
    "                x=0.02, y=0.98,\n",
    "                bgcolor=\"rgba(255,255,255,0.95)\",\n",
    "                bordercolor=\"darkgray\",\n",
    "                borderwidth=2,\n",
    "                font=dict(size=12),\n",
    "                title=dict(\n",
    "                    text=\"<b>GRAPH ELEMENTS</b><br><i>Click to show/hide</i>\",\n",
    "                    font=dict(size=14, color=\"darkblue\")\n",
    "                ),\n",
    "                grouptitlefont=dict(size=13)\n",
    "            ),\n",
    "            hovermode='closest',\n",
    "            margin=dict(b=120, l=60, r=220, t=120),\n",
    "            annotations=[\n",
    "                dict(\n",
    "                    text=\"<b>SHAPE GUIDE</b><br>\" +\n",
    "                         \"● <b>Circles</b> = responses (colored by empathy level)<br>\" +\n",
    "                         \"◆ <b>Diamonds</b> = empathy concepts (discovered words)<br>\" +\n",
    "                         \"■ <b>Squares</b> = communication styles (linguistic patterns)<br>\" +\n",
    "                         \"<br><b>SIZE MEANING</b><br>\" +\n",
    "                         \"Larger = Higher empathy score or stronger discovery\",\n",
    "                    showarrow=False,\n",
    "                    xref=\"paper\", yref=\"paper\",\n",
    "                    x=1.02, y=0.5,\n",
    "                    xanchor='left', yanchor='middle',\n",
    "                    font=dict(color=\"darkblue\", size=11),\n",
    "                    bgcolor=\"rgba(240,248,255,0.9)\",\n",
    "                    bordercolor=\"steelblue\",\n",
    "                    borderwidth=2,\n",
    "                    align=\"left\"\n",
    "                ),\n",
    "            ],\n",
    "            xaxis=dict(\n",
    "                showgrid=True, \n",
    "                gridwidth=1, \n",
    "                gridcolor='rgba(128,128,128,0.2)', \n",
    "                zeroline=False, \n",
    "                showticklabels=False,\n",
    "                title=\"\"\n",
    "            ),\n",
    "            yaxis=dict(\n",
    "                showgrid=True, \n",
    "                gridwidth=1, \n",
    "                gridcolor='rgba(128,128,128,0.2)', \n",
    "                zeroline=False, \n",
    "                showticklabels=False,\n",
    "                title=\"\"\n",
    "            ),\n",
    "            plot_bgcolor='rgba(248,249,250,0.9)',\n",
    "            paper_bgcolor='white',\n",
    "            width=1700,\n",
    "            height=1000\n",
    "        )\n",
    "    )\n",
    "    \n",
    "    return fig\n",
    "\n",
    "graph_fig = create_graph_vis(sampled_graph, df, level_info)\n",
    "graph_fig.show()"
   ]
  },
  {
   "cell_type": "code",
   "execution_count": 39,
   "id": "e5c69a53",
   "metadata": {},
   "outputs": [],
   "source": [
    "import plotly.io as pio\n",
    "pio.write_html(graph_fig, file='../index.html', auto_open=False)\n"
   ]
  }
 ],
 "metadata": {
  "kernelspec": {
   "display_name": "Python 3",
   "language": "python",
   "name": "python3"
  },
  "language_info": {
   "codemirror_mode": {
    "name": "ipython",
    "version": 3
   },
   "file_extension": ".py",
   "mimetype": "text/x-python",
   "name": "python",
   "nbconvert_exporter": "python",
   "pygments_lexer": "ipython3",
   "version": "3.12.2"
  }
 },
 "nbformat": 4,
 "nbformat_minor": 5
}
